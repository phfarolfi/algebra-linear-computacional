{
 "cells": [
  {
   "cell_type": "markdown",
   "source": [
    "# ÁLGEBRA LINEAR COMPUTACIONAL\r\n",
    "\r\n",
    "## SEGUNDA AVALIAÇÃO - 2020.2 - PROFESSOR ERITO MARQUES   "
   ],
   "metadata": {}
  },
  {
   "cell_type": "markdown",
   "source": [
    "---\r\n",
    "### GRUPO:\r\n",
    "**Ícaro Santos Barcelos Pereira - _2017780187_**\\\r\n",
    "**Leandro Bataglia Pereira - _2018780199_**\\\r\n",
    "**Pedro Henrique Farolfi Camelo - _2018780326_**\r\n",
    "\r\n",
    "---"
   ],
   "metadata": {}
  },
  {
   "cell_type": "markdown",
   "source": [
    "Repositório dos algoritmos solicitados na segunda prova da disciplina de Álgebra Linear Computacional.\r\n",
    "##### Instruções:\r\n",
    "As respostas devem ser enviadas no formato jupyter notebook.\\\r\n",
    "Os trabalhos devem ser feitos em grupo. Não é permitida troca de informações entre os grupos.\\\r\n",
    "Fixada a data de entrega, não serão aceitos trabalhos entregues fora dessa data."
   ],
   "metadata": {}
  },
  {
   "cell_type": "code",
   "execution_count": null,
   "source": [
    "import warnings\r\n",
    "warnings.filterwarnings(\"ignore\", category=DeprecationWarning) \r\n",
    "warnings.filterwarnings(\"ignore\",category=UserWarning)\r\n",
    "warnings.filterwarnings(\"ignore\",category=RuntimeWarning)"
   ],
   "outputs": [],
   "metadata": {}
  },
  {
   "cell_type": "code",
   "execution_count": null,
   "source": [
    "import numpy as np\r\n",
    "import pandas as pd\r\n",
    "import math\r\n",
    "from normas import *\r\n",
    "from criterios import *\r\n",
    "from cholesky import *\r\n",
    "from iterativos import *\r\n",
    "from benford import *\r\n",
    "from fatoracaoLU import fatoracaoLU\r\n",
    "from substituicao import resolve_substituicao\r\n",
    "from sympy import Matrix, init_printing\r\n",
    "init_printing()\r\n",
    "#BIBLIOTECA QUE NÃO ESTOU USANDO MAS PODE SER ÚTIL PARA EXIBIR AS MATRIZES/VETORES = display(Matrix(*variavel que representa o dado*)"
   ],
   "outputs": [],
   "metadata": {}
  },
  {
   "cell_type": "code",
   "execution_count": null,
   "source": [
    "# Coverti isso aqui em um procedimento, a parada é que vc pode mandar isso\r\n",
    "# ocorrer no início de qualquer célula e pode alterar o excel em tempo de execução :)\r\n",
    "\r\n",
    "# CONVERSÃO DOS DADOS EM ARRAYS DA NUMPY COM TYPE 'float64'\r\n",
    "def ler_matriz_A_vetor_b(file_excel):\r\n",
    "    df = pd.read_excel(r\"dados/\"+file_excel+\".xlsx\", header=None, sheet_name=\"A e b\")\r\n",
    "    df_matriz = df.iloc[:,0:-2]\r\n",
    "    df_vetor = df.iloc[:,-1]\r\n",
    "    matriz = np.array(df_matriz, dtype='f8') # Converte a matriz A em um array da numpy\r\n",
    "    vetor = np.ravel(np.array(df_vetor, dtype='f8')) # Converte o vetor b em um array da numpy\r\n",
    "    return matriz, vetor"
   ],
   "outputs": [],
   "metadata": {}
  },
  {
   "cell_type": "markdown",
   "source": [
    "### 1) Implemente um algoritmo que leia uma matriz A e um vetor b (de uma planilha excel) e avalie:"
   ],
   "metadata": {}
  },
  {
   "cell_type": "code",
   "execution_count": null,
   "source": [
    "matriz, vetor = ler_matriz_A_vetor_b(\"prova_ALC_testes\")"
   ],
   "outputs": [],
   "metadata": {}
  },
  {
   "cell_type": "markdown",
   "source": [
    "**a)** se A é tridiagonal;"
   ],
   "metadata": {}
  },
  {
   "cell_type": "code",
   "execution_count": null,
   "source": [
    "def verifica_tridiagonal(matriz_A, debug=False):\r\n",
    "    linhas, colunas = np.shape(matriz_A)\r\n",
    "    \r\n",
    "    try:\r\n",
    "        assert linhas == colunas\r\n",
    "    except:\r\n",
    "        if debug:\r\n",
    "            print(\"A matriz não é quadrada -> não é tridiagonal\")\r\n",
    "        return False\r\n",
    "\r\n",
    "    for i in range(linhas):\r\n",
    "        for j in range(colunas):\r\n",
    "            if np.abs(i-j) <= 1 and matriz_A[i,j] == 0:\r\n",
    "                return False\r\n",
    "            if np.abs(i-j) >= 2 and matriz_A[i,j] != 0:\r\n",
    "                return False\r\n",
    "    return True"
   ],
   "outputs": [],
   "metadata": {}
  },
  {
   "cell_type": "code",
   "execution_count": null,
   "source": [
    "verifica_tridiagonal(matriz, debug=True)"
   ],
   "outputs": [],
   "metadata": {}
  },
  {
   "cell_type": "markdown",
   "source": [
    "**b)** se A é triangular superior;"
   ],
   "metadata": {}
  },
  {
   "cell_type": "code",
   "execution_count": null,
   "source": [
    "def verifica_tri_superior(matriz_A, debug=False):\r\n",
    "    linhas, colunas = np.shape(matriz_A)\r\n",
    "    \r\n",
    "    try:\r\n",
    "        assert linhas == colunas\r\n",
    "    except:\r\n",
    "        if debug:\r\n",
    "            print(\"A matriz não é quadrada -> não é triangular superior\")\r\n",
    "        return False\r\n",
    "\r\n",
    "    for i in range(linhas):\r\n",
    "        for j in range(i):\r\n",
    "            if matriz_A[i,j] != 0:\r\n",
    "                return False\r\n",
    "    return True"
   ],
   "outputs": [],
   "metadata": {}
  },
  {
   "cell_type": "code",
   "execution_count": null,
   "source": [
    "verifica_tri_superior(matriz, debug=True)"
   ],
   "outputs": [],
   "metadata": {}
  },
  {
   "cell_type": "markdown",
   "source": [
    "**c)** se A é triangular inferior;"
   ],
   "metadata": {}
  },
  {
   "cell_type": "code",
   "execution_count": null,
   "source": [
    "def verifica_tri_inferior(matriz_A):\r\n",
    "    linhas, colunas = np.shape(matriz_A)\r\n",
    "    \r\n",
    "    try:\r\n",
    "        assert linhas == colunas\r\n",
    "    except:\r\n",
    "        print(\"A matriz não é quadrada -> não é triangular inferior\")\r\n",
    "        return False\r\n",
    "\r\n",
    "    for j in range(colunas):\r\n",
    "        for i in range(j):\r\n",
    "            if matriz_A[i,j] != 0:\r\n",
    "                return False\r\n",
    "    return True"
   ],
   "outputs": [],
   "metadata": {}
  },
  {
   "cell_type": "code",
   "execution_count": null,
   "source": [
    "verifica_tri_inferior(matriz)"
   ],
   "outputs": [],
   "metadata": {}
  },
  {
   "cell_type": "markdown",
   "source": [
    "**d)** se Traço de A é maior que 4."
   ],
   "metadata": {}
  },
  {
   "cell_type": "code",
   "execution_count": null,
   "source": [
    "def traco(matriz_A, debug=False):\r\n",
    "    linhas, colunas = np.shape(matriz_A)\r\n",
    "    \r\n",
    "    try:\r\n",
    "        assert linhas == colunas\r\n",
    "    except:\r\n",
    "        if debug:\r\n",
    "            print(\"A matriz não é quadrada -> traço não está definido.\")\r\n",
    "        return False\r\n",
    "    \r\n",
    "    n, traco = min((linhas, colunas)), 0\r\n",
    "    for i in range(n):\r\n",
    "        traco += matriz_A[i,i]\r\n",
    "    if traco > 4:\r\n",
    "        print(\"O traço da matriz é \" + str(traco) + \", portanto é maior que 4\")\r\n",
    "        return True\r\n",
    "    print(\"O traço da matriz é \" + str(traco) + \", portanto não é maior que 4\")\r\n",
    "    return False"
   ],
   "outputs": [],
   "metadata": {}
  },
  {
   "cell_type": "code",
   "execution_count": null,
   "source": [
    "A = np.array([[1,2,3],[1,2,3]])\r\n",
    "traco(A, debug=True)"
   ],
   "outputs": [],
   "metadata": {}
  },
  {
   "cell_type": "code",
   "execution_count": null,
   "source": [
    "traco(matriz, debug=True)"
   ],
   "outputs": [],
   "metadata": {}
  },
  {
   "cell_type": "markdown",
   "source": [
    "---\r\n",
    "### 2) Implemente um algoritmo que leia uma matriz A (triangular) e um vetor b (de uma planilha excel) e resolva o sistema Ax = b por substituição para frente ou para trás conforme o caso."
   ],
   "metadata": {}
  },
  {
   "cell_type": "code",
   "execution_count": null,
   "source": [
    "matriz, vetor = ler_matriz_A_vetor_b(\"prova_ALC_testes\")"
   ],
   "outputs": [],
   "metadata": {}
  },
  {
   "cell_type": "code",
   "execution_count": null,
   "source": [
    "def resolve_substituicao(matriz_A, vetor_b):\r\n",
    "    if checa_tamanho_matriz_vetor(matriz_A, vetor_b) == False:\r\n",
    "        return False\r\n",
    "        \r\n",
    "    if(verifica_tri_inferior(matriz_A)):\r\n",
    "        return resolve_subs_frente(matriz_A, vetor_b)\r\n",
    "\r\n",
    "    elif(verifica_tri_superior(matriz_A)):\r\n",
    "        return resolve_subs_tras(matriz_A,vetor_b)\r\n",
    "        \r\n",
    "    else:\r\n",
    "        print(\"A matriz não é triangular\")\r\n",
    "        return False\r\n",
    "\r\n",
    "def checa_tamanho_matriz_vetor(matriz_A, vetor_b):\r\n",
    "    lin_A, col_A = np.shape(matriz_A)\r\n",
    "    col_b = np.shape(vetor_b)\r\n",
    "    \r\n",
    "    try:\r\n",
    "        assert lin_A == col_b[0]\r\n",
    "    except:\r\n",
    "        print(\"A quantidade de linhas em A e de colunas em b são distintas\")\r\n",
    "        return False\r\n",
    "    return True\r\n",
    "    \r\n",
    "def resolve_subs_frente(matriz_A, vetor_b): # Resolve um sistema com matriz triangular inferior\r\n",
    "    n = len(matriz_A)\r\n",
    "    vetor_resultado = np.array(np.copy(vetor_b), dtype='f8')\r\n",
    "\r\n",
    "    for i in range(n):\r\n",
    "        for j in range(i):\r\n",
    "            vetor_resultado[i] = vetor_resultado[i] - matriz_A[i,j] * vetor_resultado[j]\r\n",
    "        vetor_resultado[i] = vetor_resultado[i]/matriz_A[i,i]\r\n",
    "    return vetor_resultado\r\n",
    "\r\n",
    "def resolve_subs_tras(matriz_A,vetor_b): # Resolve um sistema com matriz triangular superior\r\n",
    "    n = len(matriz_A)\r\n",
    "    vetor_resultado = np.array(np.copy(vetor_b), dtype='f8')\r\n",
    "\r\n",
    "    for i in range(n-1,-1,-1):\r\n",
    "        for j in range(n-1,i,-1):\r\n",
    "            vetor_resultado[i] = vetor_resultado[i] - matriz_A[i,j] * vetor_resultado[j]\r\n",
    "        vetor_resultado[i] = vetor_resultado[i]/matriz_A[i,i]\r\n",
    "    return vetor_resultado"
   ],
   "outputs": [],
   "metadata": {}
  },
  {
   "cell_type": "code",
   "execution_count": null,
   "source": [
    "print(resolve_substituicao(matriz, vetor))"
   ],
   "outputs": [],
   "metadata": {}
  },
  {
   "cell_type": "markdown",
   "source": [
    "---\r\n",
    "### 3) Implemente um algoritmo que leia uma matriz A e um vetor b (de uma planilha excel) e:\r\n",
    "\r\n"
   ],
   "metadata": {}
  },
  {
   "cell_type": "code",
   "execution_count": null,
   "source": [
    "matriz, vetor = ler_matriz_A_vetor_b(\"prova_ALC_testes\")"
   ],
   "outputs": [],
   "metadata": {}
  },
  {
   "cell_type": "markdown",
   "source": [
    "**a)** Avalie se é possível obter o fator de Cholesky;"
   ],
   "metadata": {}
  },
  {
   "cell_type": "code",
   "execution_count": null,
   "source": [
    "def verifica_pos_def(matriz_A):\r\n",
    "    if verifica_inversa(matriz_A) and verifica_simetria(matriz_A):\r\n",
    "        n = len(matriz_A)\r\n",
    "        for i in range(n):\r\n",
    "            soma = 0\r\n",
    "            for j in range(n):\r\n",
    "                soma += matriz_A[i,j]\r\n",
    "            if(soma == 0 or matriz_A[i,i] <= 0):\r\n",
    "                print(\"A matriz não é positiva definida.\")\r\n",
    "                return False\r\n",
    "        print(\"A matriz é positiva definida.\")\r\n",
    "        return True\r\n",
    "    print(\"A matriz não é positiva definida.\")\r\n",
    "    return False"
   ],
   "outputs": [],
   "metadata": {}
  },
  {
   "cell_type": "code",
   "execution_count": null,
   "source": [
    "verifica_pos_def(matriz)"
   ],
   "outputs": [],
   "metadata": {}
  },
  {
   "cell_type": "markdown",
   "source": [
    "**b)** Resolva o sistema Ax = b usando a fatoração de Cholesky."
   ],
   "metadata": {}
  },
  {
   "cell_type": "code",
   "execution_count": null,
   "source": [
    "def decomposicao_cholesky(matriz_A, vetor_b):\r\n",
    "    if verifica_pos_def(matriz_A):\r\n",
    "        return None\r\n",
    "    n = len(matriz_A) # n é a ordem da matriz a\r\n",
    "    matriz_R = np.copy(np.triu(matriz_A)) # matriz_r é uma cópia triangular superior da matriz A\r\n",
    "\r\n",
    "    for i in range(n):\r\n",
    "        for k in range(i): # Não é executado quando i = 0\r\n",
    "            matriz_R[i,i] = matriz_R[i,i] - math.pow(matriz_R[k,i],2) # Define os termos da diagonal principal\r\n",
    "        if matriz_R[i,i] <= 0: # Se algum elemento da diagonal principal for menor ou igual a zero, por definição, a matriz não é positiva definida\r\n",
    "            return None\r\n",
    "        matriz_R[i,i] = math.sqrt(matriz_R[i,i]) \r\n",
    "        for j in range(i+1,n): # Não é executado quando i = n\r\n",
    "            for k in range(i): # Não é executado quando i = 0\r\n",
    "                matriz_R[i,j] = matriz_R[i,j] - (matriz_R[k,i] * matriz_R[k,j])\r\n",
    "            matriz_R[i,j] = matriz_R[i,j]/matriz_R[i,i]\r\n",
    "\r\n",
    "    return resolve_cholesky(matriz_R, vetor_b)\r\n",
    "\r\n",
    "def resolve_cholesky(matriz_R, vetor_b):\r\n",
    "    matriz_Rt = np.copy(np.transpose(matriz_R)) # matriz_rt é a matriz R transposta\r\n",
    "    \r\n",
    "    vetor_y = subs.resolve_substituicao(matriz_Rt, vetor_b) # Faz o cálculo de Rt * y = b para obter o vetor y\r\n",
    "    vetor_x = subs.resolve_substituicao(matriz_R, vetor_y) # Faz o cálculo de R * x = y para obter o vetor x (resultado)\r\n",
    "\r\n",
    "    return vetor_x # Retorna o vetor x (resultado)"
   ],
   "outputs": [],
   "metadata": {}
  },
  {
   "cell_type": "code",
   "execution_count": null,
   "source": [
    "decomposicao_cholesky(matriz, vetor)"
   ],
   "outputs": [],
   "metadata": {}
  },
  {
   "cell_type": "markdown",
   "source": [
    "---\r\n",
    "### 4) Implemente um algoritmo que leia uma matriz A e um vetor b (de uma planilha excel) e:"
   ],
   "metadata": {}
  },
  {
   "cell_type": "code",
   "execution_count": null,
   "source": [
    "matriz, vetor = ler_matriz_A_vetor_b(\"prova_ALC_testes\")"
   ],
   "outputs": [],
   "metadata": {}
  },
  {
   "cell_type": "markdown",
   "source": [
    "**a)** Avalie se algum critério é satisfeito para aplicação dos métodos de Gauss-Seidel, Jacobi e SOR;"
   ],
   "metadata": {}
  },
  {
   "cell_type": "code",
   "execution_count": null,
   "source": [
    "def criterio_linhas(matriz_A): # Verificar o critério das linhas para o método de Jacobi\r\n",
    "    n, m = len(matriz_A), len(matriz_A[0]) # n e m são as dimensões da matriz\r\n",
    "    soma = 0\r\n",
    "\r\n",
    "    for i in range(n): # Percorre toda a matriz\r\n",
    "        for j in range(m):\r\n",
    "            if i != j: # Desconsidera os termos da diagonal principal\r\n",
    "                soma += np.abs(matriz_A[i,j])\r\n",
    "\r\n",
    "        if soma >= np.abs(matriz_A[i,i]): # Verifica se a soma de todos os termos (sem contar o termo da diagonal principal) de cada linha é menor ou maior que o termo da diagonal principal (Critério das linhas)\r\n",
    "            return False\r\n",
    "\r\n",
    "        soma = 0\r\n",
    "    return True"
   ],
   "outputs": [],
   "metadata": {}
  },
  {
   "cell_type": "code",
   "execution_count": null,
   "source": [
    "def criterio_sassenfeld(matriz_A):\r\n",
    "    n, m = len(matriz_A), len(matriz_A[0]) # n e m são as dimensões da matriz\r\n",
    "    aux = 0 # Variável que auxilia nos somatórios dos termos tanto de Aij*Beta, quanto de Aij\r\n",
    "    vetor_betao = np.zeros(m) # Vetor de Betas iniciado com termos iguais a zero\r\n",
    "\r\n",
    "    for i in range(n):\r\n",
    "        for j in range(i): # j vai até i-1 (desconsidera a primeira iteração)\r\n",
    "            aux += np.abs(matriz_A[i,j]) * vetor_betao[j] # A partir da segunda iteração, inclui a multiplicação de Aij pelos Betas anteriores no somatório (já que na primeira iteração não há Betas anteriores, obviamente)\r\n",
    "        for j in range(i,n):\r\n",
    "            aux += np.abs(matriz_A[i,j]) # Somatório dos módulos dos termos de Aij\r\n",
    "        vetor_betao[i] = aux/np.abs(matriz_A[i,i]) #Divide o valor da soma pelo termo da diagonal principal\r\n",
    "        aux = 0 # Zera a variável auxiliar pra próxima iteração\r\n",
    "    \r\n",
    "    print(\"Maior betão:\", np.max(vetor_betao))\r\n",
    "    if np.max(vetor_betao) < 1: # Verifica se a condição do critério de Sassenfeld (max(B) < 1) é satisfeita\r\n",
    "        return True\r\n",
    "    return False"
   ],
   "outputs": [],
   "metadata": {}
  },
  {
   "cell_type": "code",
   "execution_count": null,
   "source": [
    "criterio_linhas(matriz)"
   ],
   "outputs": [],
   "metadata": {}
  },
  {
   "cell_type": "code",
   "execution_count": null,
   "source": [
    "criterio_sassenfeld(matriz)"
   ],
   "outputs": [],
   "metadata": {}
  },
  {
   "cell_type": "markdown",
   "source": [
    "**b)** Resolva o sistema Ax = b usando os métodos iterativos de Gauss-Seidel, Jacobi e SOR."
   ],
   "metadata": {}
  },
  {
   "cell_type": "markdown",
   "source": [
    "## Jacobi"
   ],
   "metadata": {}
  },
  {
   "cell_type": "code",
   "execution_count": null,
   "source": [
    "def jacobi(matriz_A, vetor_b, vetor_x=0, N=10000, p=1e-15): # Função que executa o algoritmo de Jacobi\r\n",
    "    n, m = len(matriz_A), len(matriz_A[0]) # n e m são as dimensões da matriz\r\n",
    "    aux = 0 # Variável que vai auxiliar a armazenar as subtrações dos valores Aij*xj\r\n",
    "\r\n",
    "    if isinstance(vetor_x, int): # Se não é fornecido um vetor de aproximação inicial para x, ele é iniciado aqui com todos os elementos iguais a zero\r\n",
    "        vetor_x = np.zeros(m)\r\n",
    "    \r\n",
    "    vetor_aux = np.copy(vetor_x) # Vetor auxiliar igual ao vetor x que representa a iteração k+1\r\n",
    "\r\n",
    "    if criterio_linhas(matriz_A): # Verifica se o critério das linhas é satisfeito\r\n",
    "        print(\"O critério das linhas foi satisfeito: O sistema converge.\")\r\n",
    "    else:\r\n",
    "        print(\"ATENÇÃO: O critério das linhas não foi satisfeito.\")\r\n",
    "\r\n",
    "    for k in range(N): # Executa todas as iterações especificadas na chamada da função (N) se a condição de parada não for satisfeita\r\n",
    "        for i in range(n):\r\n",
    "            for j in range(n):\r\n",
    "                if i != j: # Pula os elementos da diagonal principal pois eles não são utilizados\r\n",
    "                    aux += matriz_A[i,j] * vetor_x[j] # Acumula as subtrações dos valores de Aij*xj\r\n",
    "            \r\n",
    "            vetor_aux[i] = (vetor_b[i] - aux)/matriz_A[i,i] # Executa a iteração do método com (bi-Aij*xj)/Aii\r\n",
    "            aux = 0 # Zera a contagem do somatório dos valores novamente\r\n",
    "\r\n",
    "        termos_encontrados = 0\r\n",
    "        for i in range(n): #Verifica elemento por elemento de vetor_x e do vetor_aux\r\n",
    "            if vetor_x[i] != 0:\r\n",
    "                if np.abs(vetor_aux[i] - vetor_x[i])/np.abs(vetor_x[i]) <= p: # Condição de parada caso a variação relativa de uma iteração para outra seja menor que a tolerância p \r\n",
    "                    termos_encontrados += 1\r\n",
    "            else:\r\n",
    "                if np.abs(vetor_aux[i] - vetor_x[i]) <= p*np.abs(vetor_x[i]):\r\n",
    "                    termos_encontrados += 1\r\n",
    "                    \r\n",
    "        if(termos_encontrados == n):\r\n",
    "            print(\"(Jacobi) Resultado encontrado com o critério de parada, na iteração:\", k)\r\n",
    "            return vetor_x\r\n",
    "\r\n",
    "        vetor_x = np.copy(vetor_aux) # Atualiza o vetor_x (k) com os valores do vetor_aux (k+1)\r\n",
    "\r\n",
    "    print(\"(Jacobi) Resultado encontrado com o número máximo de iterações.\")\r\n",
    "    return vetor_x # Retorna o vetor solução"
   ],
   "outputs": [],
   "metadata": {}
  },
  {
   "cell_type": "code",
   "execution_count": null,
   "source": [
    "print(jacobi(matriz, vetor, N=100))"
   ],
   "outputs": [],
   "metadata": {}
  },
  {
   "cell_type": "markdown",
   "source": [
    "## Gauss-Seidel"
   ],
   "metadata": {}
  },
  {
   "cell_type": "code",
   "execution_count": null,
   "source": [
    "def seidel(matriz_A, vetor_b, vetor_x=0, N=1000, p=1e-15): # Função que executa o algoritmo de Gauss-Seidel\r\n",
    "    n, m = len(matriz_A), len(matriz_A[0]) # n e m são as dimensões da matriz\r\n",
    "    aux = 0 # Variável que vai auxiliar a armazenar as subtrações dos valores Aij*xj\r\n",
    "\r\n",
    "    if isinstance(vetor_x, int): # Se não é fornecido um vetor de aproximação inicial para x, ele é iniciado aqui com todos os elementos iguais a zero\r\n",
    "        vetor_x = np.zeros(m)\r\n",
    "\r\n",
    "    vetor_aux = np.copy(vetor_x) # Vetor auxiliar igual ao vetor x que representa a iteração k+1\r\n",
    "    \t\r\n",
    "    if criterio_linhas(matriz_A): # Verifica se o critério das linhas é satisfeito\r\n",
    "        print(\"O critério das linhas foi satisfeito: O sistema converge.\")\r\n",
    "    else:\r\n",
    "        print(\"ATENÇÃO: O critério das linhas não foi satisfeito.\")\r\n",
    "\r\n",
    "    if criterio_sassenfeld(matriz_A): # Verifica se o critério de Sassenfeld é satisfeito\r\n",
    "        print(\"O critério de Sassenfeld foi satisfeito.\")\r\n",
    "    else:\r\n",
    "        print(\"ATENÇÃO: O critério de Sassenfeld não foi satisfeito.\")\r\n",
    "\r\n",
    "    for k in range(N): # Executa todas as iterações especificadas na chamada da função\r\n",
    "        for i in range(n):\r\n",
    "            for j in range(m):\r\n",
    "                if i != j: # Pula os elementos da diagonal principal pois eles não são utilizados\r\n",
    "                    if i > j:\r\n",
    "                        aux += matriz_A[i,j] * vetor_aux[j] # Acumula as subtrações dos valores de Aij*xj utilizando os valores que já foram atualizados (de 0 a i) que ficam no vetor auxiliar\r\n",
    "                    else:\r\n",
    "                        aux += matriz_A[i,j] * vetor_x[j] # Acumula as subtrações dos valores de Aij*xj utilizando os valores ainda não foram atualizados (de i+1 a n) que ficam no vetor x\r\n",
    "\r\n",
    "            vetor_aux[i] = (vetor_b[i] - aux)/matriz_A[i,i] # Executa a iteração do método com (bi-Aij*xj)/Aii\r\n",
    "            aux = 0 # Zera a contagem do somatório dos valores novamente\r\n",
    "\r\n",
    "        termos_encontrados = 0\r\n",
    "        for i in range(n): #Verifica elemento por elemento de vetor_x e do vetor_aux\r\n",
    "            if vetor_x[i] != 0:\r\n",
    "                if np.abs(vetor_aux[i] - vetor_x[i])/np.abs(vetor_x[i]) <= p: # Condição de parada caso a variação relativa de uma iteração para outra seja menor que a tolerância p \r\n",
    "                    termos_encontrados += 1\r\n",
    "            else:\r\n",
    "                if np.abs(vetor_aux[i] - vetor_x[i]) <= p*np.abs(vetor_x[i]):\r\n",
    "                    termos_encontrados += 1\r\n",
    "                    \r\n",
    "        if(termos_encontrados == n):\r\n",
    "                print(\"(Seidel) Resultado encontrado com o critério de parada, na iteração:\", k)\r\n",
    "                return vetor_x\r\n",
    "\r\n",
    "        vetor_x = np.copy(vetor_aux) # Atualiza o vetor_x (k) com os valores do vetor_aux (k+1)\r\n",
    "\r\n",
    "    print(\"(Seidel) Resultado encontrado com o número máximo de iterações.\")\r\n",
    "    return vetor_x # Retorna o vetor solução"
   ],
   "outputs": [],
   "metadata": {}
  },
  {
   "cell_type": "code",
   "execution_count": null,
   "source": [
    "print(seidel(matriz, vetor))"
   ],
   "outputs": [],
   "metadata": {}
  },
  {
   "cell_type": "markdown",
   "source": [
    "## SOR"
   ],
   "metadata": {}
  },
  {
   "cell_type": "code",
   "execution_count": null,
   "source": [
    "def calcular_omega_otimo(matriz_A):\r\n",
    "    if verifica_pos_def(matriz_A) == False or verifica_tridiagonal(matriz_A, debug=True) == False:\r\n",
    "        print(\"Não há como encontrar w ótimo.\")\r\n",
    "        return None       \r\n",
    "\r\n",
    "    n = len(matriz_A)\r\n",
    "    D = np.copy(matriz_A)\r\n",
    "    for i in range(n):\r\n",
    "        for j in range(n):\r\n",
    "            if i != j:\r\n",
    "                D[i,j] = 0.\r\n",
    "\r\n",
    "    D = np.linalg.inv(D)\r\n",
    "    L = np.tril(matriz_A)\r\n",
    "    U = np.triu(matriz_A)\r\n",
    "\r\n",
    "    for i in range(n):\r\n",
    "        for j in range(n):\r\n",
    "            if i == j:\r\n",
    "                L[i,j] = 0.\r\n",
    "                U[i,j] = 0.\r\n",
    "\r\n",
    "    LU = L + U\r\n",
    "    T = np.matmul(D, LU)\r\n",
    "    P = np.linalg.eig(T)\r\n",
    "    p = np.amax(P[0])\r\n",
    "    \r\n",
    "    print(\"omega: {}\".format(2/(1 + math.sqrt(1 - pow(p, 2)))))\r\n",
    "    return 2/(1 + math.sqrt(1 - pow(p, 2)))\r\n",
    "    "
   ],
   "outputs": [],
   "metadata": {}
  },
  {
   "cell_type": "code",
   "execution_count": null,
   "source": [
    "def sor(matriz_A, vetor_b, vetor_x=0, N=10000, p=1e-15, w=1.7): # Quando w = 1 é igual ao Seidel\r\n",
    "    n, m = len(matriz_A), len(matriz_A[0]) # n e m são as dimensões da matriz\r\n",
    "    aux = 0 # Variável que vai auxiliar a armazenar as subtrações dos valores Aij*xj\r\n",
    "    \r\n",
    "    omega = calcular_omega_otimo(matriz_A)\r\n",
    "    \r\n",
    "    if omega != None:\r\n",
    "        w = omega\r\n",
    "\r\n",
    "    if isinstance(vetor_x, int): # Se não é fornecido um vetor de aproximação inicial para x, ele é iniciado aqui com todos os elementos iguais a zero\r\n",
    "        vetor_x = np.zeros(m)\r\n",
    "\r\n",
    "    vetor_aux = np.copy(vetor_x) # Vetor auxiliar igual ao vetor x que representa a iteração k+1\r\n",
    "\r\n",
    "    if criterio_linhas(matriz_A): # Verifica se o critério das linhas é satisfeito\r\n",
    "        print(\"O critério das linhas foi satisfeito: O sistema converge.\")\r\n",
    "    else:\r\n",
    "        print(\"ATENÇÃO: O critério das linhas não foi satisfeito.\")\r\n",
    "\r\n",
    "    if criterio_sassenfeld(matriz_A): # Verifica se o critério das linhas é satisfeito\r\n",
    "        print(\"O critério de Sassenfeld foi satisfeito.\")\r\n",
    "    else:\r\n",
    "        print(\"ATENÇÃO: O critério de Sassenfeld não foi satisfeito.\")\r\n",
    "\r\n",
    "    for k in range(N): # Executa todas as iterações especificadas na chamada da função\r\n",
    "        for i in range(n):\r\n",
    "            for j in range(m):\r\n",
    "                if i != j: # Pula os elementos da diagonal principal pois eles não são utilizados\r\n",
    "                    if i > j:\r\n",
    "                        aux += matriz_A[i,j] * vetor_aux[j] # Acumula as subtrações dos valores de Aij*xj utilizando os valores que já foram atualizados (de 0 a i) que ficam no vetor auxiliar\r\n",
    "                    else:\r\n",
    "                        aux += matriz_A[i,j] * vetor_x[j] # Acumula as subtrações dos valores de Aij*xj utilizando os valores ainda não foram atualizados (de i+1 a n) que ficam no vetor x\r\n",
    "\r\n",
    "            vetor_aux[i] = (1-w)*vetor_x[i] + (w*(vetor_b[i] - aux))/matriz_A[i,i] # Executa a iteração do método com (1-w)*xi(bi-Aij*xj)/Aii\r\n",
    "            aux = 0 # Zera a contagem do somatório dos valores novamente\r\n",
    "\r\n",
    "        termos_encontrados = 0\r\n",
    "        for i in range(n): #Verifica elemento por elemento de vetor_x e do vetor_aux\r\n",
    "            if vetor_x[i] != 0:\r\n",
    "                if np.abs(vetor_aux[i] - vetor_x[i])/np.abs(vetor_x[i]) <= p: # Condição de parada caso a variação relativa de uma iteração para outra seja menor que a tolerância p \r\n",
    "                    termos_encontrados += 1\r\n",
    "            else:\r\n",
    "                if np.abs(vetor_aux[i] - vetor_x[i]) <= p*np.abs(vetor_x[i]):\r\n",
    "                    termos_encontrados += 1\r\n",
    "                    \r\n",
    "        if(termos_encontrados == n):\r\n",
    "                print(\"(SOR) Resultado encontrado com o critério de parada, na iteração:\", k)\r\n",
    "                return vetor_x\r\n",
    "\r\n",
    "        vetor_x = np.copy(vetor_aux) # Atualiza o vetor_x (k) com os valores do vetor_aux (k+1)\r\n",
    "\r\n",
    "    print(\"(SOR) Resultado encontrado com o número máximo de iterações:\")\r\n",
    "    return vetor_x # Retorna o vetor solução"
   ],
   "outputs": [],
   "metadata": {}
  },
  {
   "cell_type": "code",
   "execution_count": null,
   "source": [
    "sor(matriz, vetor)"
   ],
   "outputs": [],
   "metadata": {}
  },
  {
   "cell_type": "markdown",
   "source": [
    "---\n",
    "### 5) Implemente um algoritmo que leia uma matriz A (de uma planilha excel) e:"
   ],
   "metadata": {}
  },
  {
   "cell_type": "code",
   "execution_count": null,
   "source": [
    "def ler_matriz_A(file_matrix):\r\n",
    "    df_matriz = pd.read_excel(r\"dados/\"+file_matrix+\".xlsx\", header=None, sheet_name=\"A\") # Le o arquivo do excel que contém a matriz A sem cabeçalho\r\n",
    "    matriz = np.array(df_matriz, dtype='f8') # Converte a matriz A em um array da numpy\r\n",
    "    return matriz"
   ],
   "outputs": [],
   "metadata": {}
  },
  {
   "cell_type": "code",
   "execution_count": null,
   "source": [
    "matriz = ler_matriz_A(\"prova_ALC_testes\")"
   ],
   "outputs": [],
   "metadata": {}
  },
  {
   "cell_type": "markdown",
   "source": [
    "**a)** Calcule a transposta de A;"
   ],
   "metadata": {}
  },
  {
   "cell_type": "code",
   "execution_count": null,
   "source": [
    "def calcula_transposta(matriz_A):\r\n",
    "    if not verifica_quadrada(matriz_A):\r\n",
    "        print(\"A matriz não é quadrada.\")\r\n",
    "        return None\r\n",
    "\r\n",
    "    n = len(matriz_A)\r\n",
    "    matriz_At = np.zeros((n,n), dtype='f8')\r\n",
    "\r\n",
    "    for i in range(n):\r\n",
    "        for j in range(n):\r\n",
    "            if i == j:\r\n",
    "                matriz_At[i,j] = matriz_A[i,j]\r\n",
    "            else:\r\n",
    "                matriz_At[i,j] = matriz_A[j,i]\r\n",
    "    \r\n",
    "    return matriz_At"
   ],
   "outputs": [],
   "metadata": {}
  },
  {
   "cell_type": "code",
   "execution_count": null,
   "source": [
    "calcula_transposta(matriz)"
   ],
   "outputs": [],
   "metadata": {}
  },
  {
   "cell_type": "markdown",
   "source": [
    "**b)** Calcule o determinante de A;"
   ],
   "metadata": {}
  },
  {
   "cell_type": "code",
   "execution_count": null,
   "source": [
    "def eliminacao_gauss(matriz_A):\r\n",
    "    n = len(matriz_A)\r\n",
    "    Am = np.array(matriz_A).astype(\"float64\")\r\n",
    "\r\n",
    "    for i in range(n):\r\n",
    "        for j in range(i+1, n):\r\n",
    "            if Am[i,i] == 0:\r\n",
    "                Am[i,i] = 1e-18\r\n",
    "\r\n",
    "            x = Am[j,i]/Am[i,i] # x é o multiplicador necessário para executar a eliminação\r\n",
    "            for k in range(n):\r\n",
    "               Am[j,k] -= Am[i,k] * x # aplica o multiplicador x para zerar os elementos abaixo da diagonal principal\r\n",
    "\r\n",
    "    return calcula_determinante(Am, n) # retorna o vetor resultado\r\n",
    "\r\n",
    "def calcula_determinante(matriz_A, n):\r\n",
    "    det = 1\r\n",
    "    for i in range(n):\r\n",
    "        det *= matriz_A[i,i]\r\n",
    "    return det"
   ],
   "outputs": [],
   "metadata": {}
  },
  {
   "cell_type": "code",
   "execution_count": null,
   "source": [
    "eliminacao_gauss(matriz)"
   ],
   "outputs": [],
   "metadata": {}
  },
  {
   "cell_type": "markdown",
   "source": [
    "**c)** Calcule a matriz adjunta de A;"
   ],
   "metadata": {}
  },
  {
   "cell_type": "code",
   "execution_count": null,
   "source": [
    "def calcula_adjunta(matriz_A):\r\n",
    "    if verifica_inversa(matriz_A):\r\n",
    "        matriz_Adj = np.linalg.inv(matriz_A) * eliminacao_gauss(matriz_A)\r\n",
    "        return matriz_Adj"
   ],
   "outputs": [],
   "metadata": {}
  },
  {
   "cell_type": "code",
   "execution_count": null,
   "source": [
    "print(calcula_adjunta(matriz))"
   ],
   "outputs": [],
   "metadata": {}
  },
  {
   "cell_type": "markdown",
   "source": [
    "**d)** Calcule o traço de A;"
   ],
   "metadata": {}
  },
  {
   "cell_type": "code",
   "execution_count": null,
   "source": [
    "def traco(matriz_A):\r\n",
    "    linhas, colunas = np.shape(matriz_A)\r\n",
    "    n, traco = min((linhas, colunas)), 0\r\n",
    "\r\n",
    "    for i in range(n):\r\n",
    "        traco += matriz_A[i,i]\r\n",
    "    return traco\r\n"
   ],
   "outputs": [],
   "metadata": {}
  },
  {
   "cell_type": "code",
   "execution_count": null,
   "source": [
    "print(\"Traço de A:\", traco(matriz))"
   ],
   "outputs": [],
   "metadata": {}
  },
  {
   "cell_type": "markdown",
   "source": [
    "**e)** Avalie se A é simétrica;"
   ],
   "metadata": {}
  },
  {
   "cell_type": "code",
   "execution_count": null,
   "source": [
    "def verifica_simetria(matriz_A):\r\n",
    "    if verifica_quadrada(matriz_A):\r\n",
    "        n = len(matriz_A)\r\n",
    "        for i in range(n):\r\n",
    "            for j in range(n):\r\n",
    "                if (i != j) and (matriz_A[i,j] != matriz_A[j,i]):\r\n",
    "                    print(\"A matriz não é simétrica\")\r\n",
    "                    return False\r\n",
    "        print(\"A matriz é simétrica\")\r\n",
    "        return True\r\n",
    "    print(\"A matriz não é quadrada\")\r\n",
    "    return False"
   ],
   "outputs": [],
   "metadata": {}
  },
  {
   "cell_type": "code",
   "execution_count": null,
   "source": [
    "verifica_simetria(matriz)"
   ],
   "outputs": [],
   "metadata": {}
  },
  {
   "cell_type": "markdown",
   "source": [
    "**f)** Avalie se A é ortogonal;"
   ],
   "metadata": {}
  },
  {
   "cell_type": "code",
   "execution_count": null,
   "source": [
    "def verifica_ortogonal(matriz_A):\r\n",
    "    if not verifica_quadrada:\r\n",
    "        print(\"A matriz não é quadrada.\")\r\n",
    "        return False\r\n",
    "    \r\n",
    "    if not verifica_inversa:\r\n",
    "        print(\"A matriz é singular.\")\r\n",
    "        return False\r\n",
    "    \r\n",
    "    n = len(matriz_A)\r\n",
    "    matriz_At = calcula_transposta(matriz_A)\r\n",
    "    matriz_Id = np.identity(n)\r\n",
    "\r\n",
    "    matriz_Resultado = np.matmul(matriz_A, matriz_At)\r\n",
    "\r\n",
    "    if (matriz_Resultado-matriz_Id).all() <= 1e-10:\r\n",
    "        print(\"A matriz é ortogonal.\")\r\n",
    "        return True\r\n",
    "    else:\r\n",
    "        print(\"A matriz não é ortogonal.\")\r\n",
    "        return False"
   ],
   "outputs": [],
   "metadata": {}
  },
  {
   "cell_type": "code",
   "execution_count": null,
   "source": [
    "verifica_ortogonal(matriz)"
   ],
   "outputs": [],
   "metadata": {}
  },
  {
   "cell_type": "markdown",
   "source": [
    "**g)** Calcule a norma de linha, norma de Frobenius e norma coluna de A."
   ],
   "metadata": {}
  },
  {
   "cell_type": "code",
   "execution_count": null,
   "source": [
    "def soma_linha(matriz_A): # norma-infinita matricial\r\n",
    "    n, max, x = len(matriz_A), 0, 0\r\n",
    "\r\n",
    "    for i in range(n):\r\n",
    "        for j in range(n):\r\n",
    "            x += math.fabs(matriz_A[i,j])\r\n",
    "        \r\n",
    "        if x > max:\r\n",
    "            max = x\r\n",
    "\r\n",
    "    return max"
   ],
   "outputs": [],
   "metadata": {}
  },
  {
   "cell_type": "code",
   "execution_count": null,
   "source": [
    "soma_linha(matriz)"
   ],
   "outputs": [],
   "metadata": {}
  },
  {
   "cell_type": "code",
   "execution_count": null,
   "source": [
    "def frobenius(matriz_A): # norma-2 matricial\r\n",
    "    n, x = len(matriz_A), 0\r\n",
    "\r\n",
    "    for i in range(n):\r\n",
    "        for j in range(n):\r\n",
    "            x += math.pow(math.fabs(matriz_A[i,j]), 2)\r\n",
    "\r\n",
    "    return x ** (1/2)"
   ],
   "outputs": [],
   "metadata": {}
  },
  {
   "cell_type": "code",
   "execution_count": null,
   "source": [
    "frobenius(matriz)"
   ],
   "outputs": [],
   "metadata": {}
  },
  {
   "cell_type": "code",
   "execution_count": null,
   "source": [
    "def soma_coluna(matriz_A): # norma-1 matricial\r\n",
    "    n, max, x = len(matriz_A), 0, 0\r\n",
    "\r\n",
    "    for j in range(n):\r\n",
    "        for i in range(n):\r\n",
    "            x += math.fabs(matriz_A[i,j])\r\n",
    "        \r\n",
    "        if x > max:\r\n",
    "            max = x\r\n",
    "    \r\n",
    "    return max"
   ],
   "outputs": [],
   "metadata": {}
  },
  {
   "cell_type": "code",
   "execution_count": null,
   "source": [
    "soma_coluna(matriz)"
   ],
   "outputs": [],
   "metadata": {}
  },
  {
   "cell_type": "markdown",
   "source": [
    "**h)** Avalie se A é positiva definida."
   ],
   "metadata": {}
  },
  {
   "cell_type": "code",
   "execution_count": null,
   "source": [
    "def verifica_pos_def(matriz_A):\r\n",
    "    if verifica_inversa(matriz_A) and verifica_simetria(matriz_A):\r\n",
    "        n = len(matriz_A)\r\n",
    "        for i in range(n):\r\n",
    "            soma = 0\r\n",
    "            for j in range(n):\r\n",
    "                soma += matriz_A[i,j]\r\n",
    "            if(soma == 0 or matriz_A[i,i] <= 0):\r\n",
    "                print(\"A matriz não é positiva definida.\")\r\n",
    "                return False\r\n",
    "        print(\"A matriz é positiva definida.\")\r\n",
    "        return True\r\n",
    "    print(\"A matriz não é positiva definida.\")\r\n",
    "    return False"
   ],
   "outputs": [],
   "metadata": {}
  },
  {
   "cell_type": "code",
   "execution_count": null,
   "source": [
    "verifica_pos_def(matriz)"
   ],
   "outputs": [],
   "metadata": {}
  },
  {
   "cell_type": "markdown",
   "source": [
    "---\n",
    "### 6) Construa um algoritmo que receba dois vetores x e y e uma matriz A positiva definida (de uma planilha excel). Calcule:"
   ],
   "metadata": {}
  },
  {
   "cell_type": "code",
   "execution_count": null,
   "source": [
    "def ler_matriz_A_vetor_x_vetor_y(file_name, file_matrix, file_array_x, file_array_y):\r\n",
    "    df_matriz = pd.read_excel(r\"dados/\"+file_name+\".xlsx\", header=None, sheet_name=file_matrix) # Le o arquivo do excel que contém a matriz A sem cabeçalho\r\n",
    "    df_vetor_x = pd.read_excel(r\"dados/\"+file_name+\".xlsx\", header=None, sheet_name=file_array_x) # Le o arquivo do excel que contém o vetor x sem cabeçalho\r\n",
    "    df_vetor_y = pd.read_excel(r\"dados/\"+file_name+\".xlsx\", header=None, sheet_name=file_array_y) # Le o arquivo do excel que contém o vetor y sem cabeçalho\r\n",
    "    matriz = np.array(df_matriz, dtype='f8') # Converte a matriz A em um array da numpy\r\n",
    "    vetor_x = np.ravel(np.array(df_vetor_x, dtype='f8')) # Converte o vetor b em um array da numpy\r\n",
    "    vetor_y = np.ravel(np.array(df_vetor_y, dtype='f8')) # Converte o vetor b em um array da numpy\r\n",
    "    return matriz, vetor_x, vetor_y\r\n"
   ],
   "outputs": [],
   "metadata": {}
  },
  {
   "cell_type": "code",
   "execution_count": null,
   "source": [
    "matriz, vetor_x, vetor_y = ler_matriz_A_vetor_x_vetor_y(\"prova_ALC_testes(1)\", \"matriz_A(2)\", \"vetor_b(1)\", \"vetor_b(1)\")"
   ],
   "outputs": [],
   "metadata": {}
  },
  {
   "cell_type": "markdown",
   "source": [
    "**a)** Norma 1, norma 2 e norma infinito de x e y."
   ],
   "metadata": {}
  },
  {
   "cell_type": "code",
   "execution_count": null,
   "source": [
    "def manhattan(vetor): # norma-1 vetorial\r\n",
    "    n, x = len(vetor), 0\r\n",
    "\r\n",
    "    for i in range(n):\r\n",
    "        x += np.fabs(vetor[i])\r\n",
    "    return x"
   ],
   "outputs": [],
   "metadata": {}
  },
  {
   "cell_type": "code",
   "execution_count": null,
   "source": [
    "print(manhattan(vetor_x))\r\n",
    "print(manhattan(vetor_y))"
   ],
   "outputs": [],
   "metadata": {}
  },
  {
   "cell_type": "code",
   "execution_count": null,
   "source": [
    "def euclidiana(vetor): # norma-2 vetorial\r\n",
    "    n, x = len(vetor), 0\r\n",
    "\r\n",
    "    for i in range(n):\r\n",
    "        x += np.fabs(vetor[i]) ** 2\r\n",
    "\r\n",
    "    return x ** (1/2)"
   ],
   "outputs": [],
   "metadata": {}
  },
  {
   "cell_type": "code",
   "execution_count": null,
   "source": [
    "print(euclidiana(vetor_x))\r\n",
    "print(euclidiana(vetor_y))"
   ],
   "outputs": [],
   "metadata": {}
  },
  {
   "cell_type": "code",
   "execution_count": null,
   "source": [
    "def infinita(vetor): # norma-infinita vetorial\r\n",
    "    n, max = len(vetor), vetor[0]\r\n",
    "    \r\n",
    "    for i in range(1, n):\r\n",
    "        if np.fabs(vetor[i]) > max:\r\n",
    "            max = np.fabs(vetor[i])\r\n",
    "\r\n",
    "    return max"
   ],
   "outputs": [],
   "metadata": {}
  },
  {
   "cell_type": "code",
   "execution_count": null,
   "source": [
    "print(infinita(vetor_x))\r\n",
    "print(infinita(vetor_y))"
   ],
   "outputs": [],
   "metadata": {}
  },
  {
   "cell_type": "markdown",
   "source": [
    "**b)** Ângulo entre x e y;"
   ],
   "metadata": {}
  },
  {
   "cell_type": "code",
   "execution_count": null,
   "source": [
    "def produto_interno(vetor_x, vetor_y):\r\n",
    "    n, p_interno = len(vetor_x), 0\r\n",
    "\r\n",
    "    for i in range(n):\r\n",
    "        p_interno += vetor_x[i] * vetor_y[i]\r\n",
    "    \r\n",
    "    return p_interno\r\n",
    "\r\n",
    "def angulo_vetores(vetor_x, vetor_y):\r\n",
    "    n = len(vetor_x)\r\n",
    "\r\n",
    "    p_interno = produto_interno(vetor_x, vetor_y)\r\n",
    "    norma_x = euclidiana(vetor_x)\r\n",
    "    norma_y = euclidiana(vetor_y)\r\n",
    "    p_normas = norma_x * norma_y\r\n",
    "\r\n",
    "    div = p_interno/p_normas\r\n",
    "\r\n",
    "    return np.arccos(div)"
   ],
   "outputs": [],
   "metadata": {}
  },
  {
   "cell_type": "code",
   "execution_count": null,
   "source": [
    "angulo_vetores(vetor_x, vetor_y)"
   ],
   "outputs": [],
   "metadata": {}
  },
  {
   "cell_type": "markdown",
   "source": [
    "**c)** Norma de x e y induzida por A;"
   ],
   "metadata": {}
  },
  {
   "cell_type": "code",
   "execution_count": null,
   "source": [
    "def matricial_induzida(matriz_A, vetor_b, norma=manhattan):\r\n",
    "    \r\n",
    "    if norma == manhattan:\r\n",
    "        mat = np.matmul(matriz_A, vetor_b)\r\n",
    "        return manhattan(mat)/manhattan(vetor_b)\r\n",
    "    \r\n",
    "    elif norma == euclidiana:\r\n",
    "        mat = np.matmul(matriz_A, vetor_b)\r\n",
    "        return euclidiana(mat)/euclidiana(vetor_b)\r\n",
    "    \r\n",
    "    elif norma == infinita:\r\n",
    "        mat = np.matmul(matriz_A, vetor_b)\r\n",
    "        return infinita(mat)/infinita(vetor_b)"
   ],
   "outputs": [],
   "metadata": {}
  },
  {
   "cell_type": "code",
   "execution_count": null,
   "source": [
    "matricial_induzida(matriz, vetor_x)\r\n",
    "matricial_induzida(matriz, vetor_y)"
   ],
   "outputs": [],
   "metadata": {}
  },
  {
   "cell_type": "markdown",
   "source": [
    "**d)** Produto interno de x e y."
   ],
   "metadata": {}
  },
  {
   "cell_type": "code",
   "execution_count": null,
   "source": [
    "def produto_interno(vetor_x, vetor_y):\r\n",
    "    n, p_interno = len(vetor_x), 0\r\n",
    "\r\n",
    "    for i in range(n):\r\n",
    "        p_interno += vetor_x[i] * vetor_y[i]\r\n",
    "    \r\n",
    "    return p_interno"
   ],
   "outputs": [],
   "metadata": {}
  },
  {
   "cell_type": "code",
   "execution_count": null,
   "source": [
    "produto_interno(vetor_x, vetor_y)"
   ],
   "outputs": [],
   "metadata": {}
  },
  {
   "cell_type": "markdown",
   "source": [
    "---\n",
    "### 7) Implemente um algoritmo que leia uma matriz A e um vetor b (de uma planilha excel). Encontre a fatoração LU de A."
   ],
   "metadata": {}
  },
  {
   "cell_type": "code",
   "execution_count": null,
   "source": [
    "matriz, vetor = ler_matriz_A_vetor_b(\"prova_ALC_testes\")"
   ],
   "outputs": [],
   "metadata": {}
  },
  {
   "cell_type": "code",
   "execution_count": null,
   "source": [
    "fatoracaoLU(matriz,vetor)"
   ],
   "outputs": [],
   "metadata": {}
  },
  {
   "cell_type": "markdown",
   "source": [
    "---\n",
    "### 8) Construa um algoritmo que receba uma matriz A positiva (de uma planilha excel). Calcule:"
   ],
   "metadata": {}
  },
  {
   "cell_type": "code",
   "execution_count": null,
   "source": [
    "matriz = ler_matriz_A(\"prova_ALC_testes\")"
   ],
   "outputs": [],
   "metadata": {}
  },
  {
   "cell_type": "markdown",
   "source": [
    "**a)** O número condição;\r\n",
    "\r\n",
    "**b)** Retorne uma mensagem ao usuário sobre sua interpretação."
   ],
   "metadata": {}
  },
  {
   "cell_type": "code",
   "execution_count": null,
   "source": [
    "def condition_number(matriz):\r\n",
    "    inv = np.linalg.inv(matriz)\r\n",
    "    kond = frobenius(matriz) * frobenius(inv)\r\n",
    "    print(\"Número condição: {}\".format(kond))\r\n",
    "    print(\"Para um sistema linear com essa matriz, o erro esperado causado por uma perturbação em b vai será de aproximadamente:\")\r\n",
    "    return kond"
   ],
   "outputs": [],
   "metadata": {}
  },
  {
   "cell_type": "code",
   "execution_count": null,
   "source": [
    "condition_number(matriz)"
   ],
   "outputs": [],
   "metadata": {}
  },
  {
   "cell_type": "markdown",
   "source": [
    "---\n",
    "### 9) Construa um algoritmo que receba três matrizes: U, sigma e V (de uma planilha excel) e:"
   ],
   "metadata": {}
  },
  {
   "cell_type": "code",
   "execution_count": null,
   "source": [
    "def ler_matrizes_USV(file_excel):\r\n",
    "    df = pd.read_excel(r\"dados/\"+file_excel+\".xlsx\", header=None, sheet_name=\"SVD\")\r\n",
    "    data = np.array(df)\r\n",
    "\r\n",
    "    n, m = np.shape(data)\r\n",
    "    nan_find = ~np.isnan(data).all(axis=0)\r\n",
    "    nan_index = []\r\n",
    "\r\n",
    "    for i in range(len(nan_find)):\r\n",
    "        if nan_find[i] == False:\r\n",
    "            nan_index.append(i)\r\n",
    "\r\n",
    "    data_U = data[:,:nan_index[0]]\r\n",
    "    data_S = data[:,nan_index[0]+1:nan_index[1]]\r\n",
    "    data_Vt = data[:,nan_index[1]+1:m]\r\n",
    "\r\n",
    "    matriz_U = data_U[~np.isnan(data_U).all(axis=1)]\r\n",
    "    matriz_S = data_S[~np.isnan(data_S).all(axis=1)]\r\n",
    "    matriz_Vt = data_Vt[~np.isnan(data_Vt).all(axis=1)]\r\n",
    "\r\n",
    "    return matriz_U, matriz_S, matriz_Vt"
   ],
   "outputs": [],
   "metadata": {}
  },
  {
   "cell_type": "code",
   "execution_count": null,
   "source": [
    "matriz_U, matriz_S, matriz_Vt = ler_matrizes_USV(\"prova_ALC_testes\")"
   ],
   "outputs": [],
   "metadata": {}
  },
  {
   "cell_type": "markdown",
   "source": [
    "**a)** Avalie se o produto das três matrizes representa uma decomposição SVD de alguma matriz X;\r\n",
    "\r\n",
    "**b)** Caso a resposta à pergunta anterior seja negativa, retorne ao usuário uma explicação justificando esse fato."
   ],
   "metadata": {}
  },
  {
   "cell_type": "code",
   "execution_count": null,
   "source": [
    "# U e V ortogonais e S não-quadrada e diagonal\r\n",
    "def verifica_diagonal(matriz):\r\n",
    "    n, m = np.shape(matriz)\r\n",
    "\r\n",
    "    for i in range(n):\r\n",
    "        for j in range(m):\r\n",
    "            if i != j and matriz[i,j] != 0:\r\n",
    "                print(\"A matriz não é diagonal.\")\r\n",
    "                return False\r\n",
    "    print(\"A matriz é diagonal.\")\r\n",
    "    return True\r\n",
    "\r\n",
    "def verifica_SVD(matriz_U, matriz_S, matriz_Vt):\r\n",
    "    print(\"Para as matrizes USVt serem a decomposição SVD de uma matriz X:\\n-> U e Vt devem ser ortogonais.\\n-> S deve ser diagonal não-quadrada.\\n\")\r\n",
    "    print(\"Verificando se U é ortogonal...\")\r\n",
    "    if verifica_ortogonal(matriz_U):\r\n",
    "        print(\"\\nVerificando se Vt é ortogonal...\")\r\n",
    "        if verifica_ortogonal(matriz_Vt):\r\n",
    "            print(\"\\nVerificando se S é diagonal e não-quadrada...\")\r\n",
    "            if verifica_diagonal(matriz_S):\r\n",
    "                nS, mS = np.shape(matriz_S)\r\n",
    "                if nS != mS:\r\n",
    "                    print(\"A matriz é não-quadrada.\")\r\n",
    "                    print(\"\")\r\n",
    "                    mU = len(matriz_U)\r\n",
    "                    nVt = len(matriz_Vt)\r\n",
    "\r\n",
    "                    if mU == nS and mS == nVt:\r\n",
    "                        print(\"As matrizes são a decomposição SVD da matriz X abaixo:\")\r\n",
    "                        matriz_X = np.matmul(np.matmul(matriz_U, matriz_S), matriz_Vt)\r\n",
    "                        print(matriz_X)\r\n",
    "\r\n",
    "                        return True\r\n",
    "                    else:\r\n",
    "                        print(\"As matrizes não têm dimensões compatíveis para executar um produto de matrizes.\")\r\n",
    "                        return False\r\n",
    "                else:\r\n",
    "                    print(\"A matriz S é quadrada.\")\r\n",
    "                    return False\r\n",
    "            else:\r\n",
    "                print(\"A matriz S não é diagonal.\")\r\n",
    "                return False\r\n",
    "        else:\r\n",
    "            print(\"A matriz Vt não é ortogonal.\")\r\n",
    "            return False\r\n",
    "    else:\r\n",
    "        print(\"A matriz U não é ortogonal.\")\r\n",
    "        return False"
   ],
   "outputs": [],
   "metadata": {}
  },
  {
   "cell_type": "code",
   "execution_count": null,
   "source": [
    "verifica_SVD(matriz_U, matriz_S, matriz_Vt)"
   ],
   "outputs": [],
   "metadata": {}
  },
  {
   "cell_type": "markdown",
   "source": [
    "---\n",
    "### 10) Construa um algoritmo que leia uma planilha em Excel com 4 colunas e calcule a estatística de Benford (para 1 dígito) para cada uma das colunas."
   ],
   "metadata": {}
  },
  {
   "cell_type": "code",
   "execution_count": null,
   "source": [
    "def ler_dados_benford(file_name): # Le o arquivo do excel que contém os dados para testar o algoritmo de ocorrências (Benford)\r\n",
    "    df_benford = pd.read_excel(r\"dados/\"+file_name+\".xlsx\", header=None)\r\n",
    "    dataset_benford = np.array(df_benford) # Converte a matriz de dados em um array numpy\r\n",
    "    return dataset_benford\r\n",
    "\r\n",
    "def benford(dados):\r\n",
    "    n, m = np.shape(dados)\r\n",
    "    primeiro_digito = np.zeros((n,m)) # Matriz auxiliar para armazenar o primeiro dígito de cada posição da matriz de dados\r\n",
    "\r\n",
    "    # Looping para armazenar os primeiros dígitos dos elementos da matriz de dados na matriz primeiro_digito\r\n",
    "    for j in range(m):\r\n",
    "        for i in range(n):\r\n",
    "            num = [x for x in str(dados[i,j])]\r\n",
    "            for value in num:\r\n",
    "                if value != '0' and value != '.' and value != '-':\r\n",
    "                    primeiro_digito[i,j] = int(value)\r\n",
    "                    break\r\n",
    "\r\n",
    "    # Verifica as ocorrências de 1 a 9 na matriz primeiro_digito por colunas\r\n",
    "    for i in range(1, 10):\r\n",
    "        count = np.count_nonzero(primeiro_digito == i, axis=0)\r\n",
    "        # Mostra a porcentagem de ocorrências pra cada ocorrência de 1 a 9 da matriz primeiro_digito\r\n",
    "        for j in range(m):\r\n",
    "            if j == 0:\r\n",
    "                print('Porcentagem de ocorrência de primeiro dígito \"'+str(i)+'\" em cada coluna:', end=' ')\r\n",
    "            print(\"{:.4f}\".format((count[j]/n)*100)+'%', end=' | ')\r\n",
    "        print('')"
   ],
   "outputs": [],
   "metadata": {}
  },
  {
   "cell_type": "code",
   "execution_count": null,
   "source": [
    "benford(ler_dados_benford(\"dados_benford\"))"
   ],
   "outputs": [],
   "metadata": {}
  }
 ],
 "metadata": {
  "interpreter": {
   "hash": "f2cd4636bf413f434ce38ed161db4e268d96ca7807095f8f3af1b39d48b88970"
  },
  "kernelspec": {
   "name": "python3",
   "display_name": "Python 3.9.6 64-bit ('ALC': conda)"
  },
  "language_info": {
   "codemirror_mode": {
    "name": "ipython",
    "version": 3
   },
   "file_extension": ".py",
   "mimetype": "text/x-python",
   "name": "python",
   "nbconvert_exporter": "python",
   "pygments_lexer": "ipython3",
   "version": "3.9.6"
  }
 },
 "nbformat": 4,
 "nbformat_minor": 2
}