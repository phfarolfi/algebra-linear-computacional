{
 "cells": [
  {
   "cell_type": "markdown",
   "source": [
    "# ÁLGEBRA LINEAR COMPUTACIONAL\r\n",
    "\r\n",
    "## SEGUNDA AVALIAÇÃO - 2020.2 - PROFESSOR ERITO MARQUES   "
   ],
   "metadata": {}
  },
  {
   "cell_type": "markdown",
   "source": [
    "---\r\n",
    "### GRUPO:\r\n",
    "**Ícaro Santos Barcelos Pereira - _2017780187_**\\\r\n",
    "**Leandro Bataglia Pereira - _2018780199_**\\\r\n",
    "**Pedro Henrique Farolfi Camelo - _2018780326_**\r\n",
    "\r\n",
    "---"
   ],
   "metadata": {}
  },
  {
   "cell_type": "markdown",
   "source": [
    "Repositório dos algoritmos solicitados na segunda prova da disciplina de Álgebra Linear Computacional.\r\n",
    "##### Instruções:\r\n",
    "As respostas devem ser enviadas no formato jupyter notebook.\\\r\n",
    "Os trabalhos devem ser feitos em grupo. Não é permitida troca de informações entre os grupos.\\\r\n",
    "Fixada a data de entrega, não serão aceitos trabalhos entregues fora dessa data."
   ],
   "metadata": {}
  },
  {
   "cell_type": "code",
   "execution_count": 262,
   "source": [
    "import warnings\r\n",
    "warnings.filterwarnings(\"ignore\", category=DeprecationWarning) \r\n",
    "warnings.filterwarnings(\"ignore\",category=UserWarning)\r\n",
    "warnings.filterwarnings(\"ignore\",category=RuntimeWarning)"
   ],
   "outputs": [],
   "metadata": {}
  },
  {
   "cell_type": "code",
   "execution_count": 263,
   "source": [
    "import numpy as np\r\n",
    "import pandas as pd\r\n",
    "import math\r\n",
    "from normas import *\r\n",
    "from criterios import *\r\n",
    "from cholesky import *\r\n",
    "from iterativos import *\r\n",
    "from benford import *\r\n",
    "from fatoracaoLU import fatoracaoLU\r\n",
    "from substituicao import resolve_substituicao\r\n",
    "from sympy import Matrix, init_printing\r\n",
    "init_printing()\r\n",
    "#BIBLIOTECA QUE NÃO ESTOU USANDO MAS PODE SER ÚTIL PARA EXIBIR AS MATRIZES/VETORES = display(Matrix(*variavel que representa o dado*)"
   ],
   "outputs": [],
   "metadata": {}
  },
  {
   "cell_type": "code",
   "execution_count": 264,
   "source": [
    "# Coverti isso aqui em um procedimento, a parada é que vc pode mandar isso\r\n",
    "# ocorrer no início de qualquer célula e pode alterar o excel em tempo de execução :)\r\n",
    "\r\n",
    "# CONVERSÃO DOS DADOS EM ARRAYS DA NUMPY COM TYPE 'float64'\r\n",
    "def ler_matriz_A_vetor_b(file_excel):\r\n",
    "    df = pd.read_excel(r\"dados/\"+file_excel+\".xlsx\", header=None, sheet_name=\"A e b\")\r\n",
    "    df_matriz = df.iloc[:,0:-2]\r\n",
    "    df_vetor = df.iloc[:,-1]\r\n",
    "    matriz = np.array(df_matriz, dtype='f8') # Converte a matriz A em um array da numpy\r\n",
    "    vetor = np.ravel(np.array(df_vetor, dtype='f8')) # Converte o vetor b em um array da numpy\r\n",
    "    return matriz, vetor"
   ],
   "outputs": [],
   "metadata": {}
  },
  {
   "cell_type": "markdown",
   "source": [
    "### 1) Implemente um algoritmo que leia uma matriz A e um vetor b (de uma planilha excel) e avalie:"
   ],
   "metadata": {}
  },
  {
   "cell_type": "code",
   "execution_count": 265,
   "source": [
    "matriz, vetor = ler_matriz_A_vetor_b(\"prova_ALC_testes\")"
   ],
   "outputs": [],
   "metadata": {}
  },
  {
   "cell_type": "markdown",
   "source": [
    "**a)** se A é tridiagonal;"
   ],
   "metadata": {}
  },
  {
   "cell_type": "code",
   "execution_count": 266,
   "source": [
    "def verifica_tridiagonal(matriz_A, debug=False):\r\n",
    "    linhas, colunas = np.shape(matriz_A)\r\n",
    "    \r\n",
    "    try:\r\n",
    "        assert linhas == colunas\r\n",
    "    except:\r\n",
    "        if debug:\r\n",
    "            print(\"A matriz não é quadrada -> não é tridiagonal\")\r\n",
    "        return False\r\n",
    "\r\n",
    "    for i in range(linhas):\r\n",
    "        for j in range(colunas):\r\n",
    "            if np.abs(i-j) <= 1 and matriz_A[i,j] == 0:\r\n",
    "                return False\r\n",
    "            if np.abs(i-j) >= 2 and matriz_A[i,j] != 0:\r\n",
    "                return False\r\n",
    "    return True"
   ],
   "outputs": [],
   "metadata": {}
  },
  {
   "cell_type": "code",
   "execution_count": 267,
   "source": [
    "verifica_tridiagonal(matriz, debug=True)"
   ],
   "outputs": [
    {
     "output_type": "execute_result",
     "data": {
      "text/plain": [
       "False"
      ]
     },
     "metadata": {},
     "execution_count": 267
    }
   ],
   "metadata": {}
  },
  {
   "cell_type": "markdown",
   "source": [
    "**b)** se A é triangular superior;"
   ],
   "metadata": {}
  },
  {
   "cell_type": "code",
   "execution_count": 268,
   "source": [
    "def verifica_tri_superior(matriz_A, debug=False):\r\n",
    "    linhas, colunas = np.shape(matriz_A)\r\n",
    "    \r\n",
    "    try:\r\n",
    "        assert linhas == colunas\r\n",
    "    except:\r\n",
    "        if debug:\r\n",
    "            print(\"A matriz não é quadrada -> não é triangular superior\")\r\n",
    "        return False\r\n",
    "\r\n",
    "    for i in range(linhas):\r\n",
    "        for j in range(i):\r\n",
    "            if matriz_A[i,j] != 0:\r\n",
    "                return False\r\n",
    "    return True"
   ],
   "outputs": [],
   "metadata": {}
  },
  {
   "cell_type": "code",
   "execution_count": 269,
   "source": [
    "verifica_tri_superior(matriz, debug=True)"
   ],
   "outputs": [
    {
     "output_type": "execute_result",
     "data": {
      "text/plain": [
       "False"
      ]
     },
     "metadata": {},
     "execution_count": 269
    }
   ],
   "metadata": {}
  },
  {
   "cell_type": "markdown",
   "source": [
    "**c)** se A é triangular inferior;"
   ],
   "metadata": {}
  },
  {
   "cell_type": "code",
   "execution_count": 270,
   "source": [
    "def verifica_tri_inferior(matriz_A):\r\n",
    "    linhas, colunas = np.shape(matriz_A)\r\n",
    "    \r\n",
    "    try:\r\n",
    "        assert linhas == colunas\r\n",
    "    except:\r\n",
    "        print(\"A matriz não é quadrada -> não é triangular inferior\")\r\n",
    "        return False\r\n",
    "\r\n",
    "    for j in range(colunas):\r\n",
    "        for i in range(j):\r\n",
    "            if matriz_A[i,j] != 0:\r\n",
    "                return False\r\n",
    "    return True"
   ],
   "outputs": [],
   "metadata": {}
  },
  {
   "cell_type": "code",
   "execution_count": 271,
   "source": [
    "verifica_tri_inferior(matriz)"
   ],
   "outputs": [
    {
     "output_type": "execute_result",
     "data": {
      "text/plain": [
       "False"
      ]
     },
     "metadata": {},
     "execution_count": 271
    }
   ],
   "metadata": {}
  },
  {
   "cell_type": "markdown",
   "source": [
    "**d)** se Traço de A é maior que 4."
   ],
   "metadata": {}
  },
  {
   "cell_type": "code",
   "execution_count": 272,
   "source": [
    "def traco(matriz_A, debug=False):\r\n",
    "    linhas, colunas = np.shape(matriz_A)\r\n",
    "    \r\n",
    "    try:\r\n",
    "        assert linhas == colunas\r\n",
    "    except:\r\n",
    "        if debug:\r\n",
    "            print(\"A matriz não é quadrada -> traço não está definido.\")\r\n",
    "        return False\r\n",
    "    \r\n",
    "    n, traco = min((linhas, colunas)), 0\r\n",
    "    for i in range(n):\r\n",
    "        traco += matriz_A[i,i]\r\n",
    "    if traco > 4:\r\n",
    "        print(\"O traço da matriz é \" + str(traco) + \", portanto é maior que 4\")\r\n",
    "        return True\r\n",
    "    print(\"O traço da matriz é \" + str(traco) + \", portanto não é maior que 4\")\r\n",
    "    return False"
   ],
   "outputs": [],
   "metadata": {}
  },
  {
   "cell_type": "code",
   "execution_count": 273,
   "source": [
    "A = np.array([[1,2,3],[1,2,3]])\r\n",
    "traco(A, debug=True)"
   ],
   "outputs": [
    {
     "output_type": "stream",
     "name": "stdout",
     "text": [
      "A matriz não é quadrada -> traço não está definido.\n"
     ]
    },
    {
     "output_type": "execute_result",
     "data": {
      "text/plain": [
       "False"
      ]
     },
     "metadata": {},
     "execution_count": 273
    }
   ],
   "metadata": {}
  },
  {
   "cell_type": "code",
   "execution_count": 274,
   "source": [
    "traco(matriz, debug=True)"
   ],
   "outputs": [
    {
     "output_type": "stream",
     "name": "stdout",
     "text": [
      "O traço da matriz é 1179.0, portanto é maior que 4\n"
     ]
    },
    {
     "output_type": "execute_result",
     "data": {
      "text/plain": [
       "True"
      ]
     },
     "metadata": {},
     "execution_count": 274
    }
   ],
   "metadata": {}
  },
  {
   "cell_type": "markdown",
   "source": [
    "---\r\n",
    "### 2) Implemente um algoritmo que leia uma matriz A (triangular) e um vetor b (de uma planilha excel) e resolva o sistema Ax = b por substituição para frente ou para trás conforme o caso."
   ],
   "metadata": {}
  },
  {
   "cell_type": "code",
   "execution_count": 275,
   "source": [
    "matriz, vetor = ler_matriz_A_vetor_b(\"prova_ALC_testes\")"
   ],
   "outputs": [],
   "metadata": {}
  },
  {
   "cell_type": "code",
   "execution_count": 276,
   "source": [
    "def resolve_substituicao(matriz_A, vetor_b):\r\n",
    "    if checa_tamanho_matriz_vetor(matriz_A, vetor_b) == False:\r\n",
    "        return False\r\n",
    "        \r\n",
    "    if(verifica_tri_inferior(matriz_A)):\r\n",
    "        return resolve_subs_frente(matriz_A, vetor_b)\r\n",
    "\r\n",
    "    elif(verifica_tri_superior(matriz_A)):\r\n",
    "        return resolve_subs_tras(matriz_A,vetor_b)\r\n",
    "        \r\n",
    "    else:\r\n",
    "        print(\"A matriz não é triangular\")\r\n",
    "        return False\r\n",
    "\r\n",
    "def checa_tamanho_matriz_vetor(matriz_A, vetor_b):\r\n",
    "    lin_A, col_A = np.shape(matriz_A)\r\n",
    "    col_b = np.shape(vetor_b)\r\n",
    "    \r\n",
    "    try:\r\n",
    "        assert lin_A == col_b[0]\r\n",
    "    except:\r\n",
    "        print(\"A quantidade de linhas em A e de colunas em b são distintas\")\r\n",
    "        return False\r\n",
    "    return True\r\n",
    "    \r\n",
    "def resolve_subs_frente(matriz_A, vetor_b): # Resolve um sistema com matriz triangular inferior\r\n",
    "    n = len(matriz_A)\r\n",
    "    vetor_resultado = np.array(np.copy(vetor_b), dtype='f8')\r\n",
    "\r\n",
    "    for i in range(n):\r\n",
    "        for j in range(i):\r\n",
    "            vetor_resultado[i] = vetor_resultado[i] - matriz_A[i,j] * vetor_resultado[j]\r\n",
    "        vetor_resultado[i] = vetor_resultado[i]/matriz_A[i,i]\r\n",
    "    return vetor_resultado\r\n",
    "\r\n",
    "def resolve_subs_tras(matriz_A,vetor_b): # Resolve um sistema com matriz triangular superior\r\n",
    "    n = len(matriz_A)\r\n",
    "    vetor_resultado = np.array(np.copy(vetor_b), dtype='f8')\r\n",
    "\r\n",
    "    for i in range(n-1,-1,-1):\r\n",
    "        for j in range(n-1,i,-1):\r\n",
    "            vetor_resultado[i] = vetor_resultado[i] - matriz_A[i,j] * vetor_resultado[j]\r\n",
    "        vetor_resultado[i] = vetor_resultado[i]/matriz_A[i,i]\r\n",
    "    return vetor_resultado"
   ],
   "outputs": [],
   "metadata": {}
  },
  {
   "cell_type": "code",
   "execution_count": 277,
   "source": [
    "print(resolve_substituicao(matriz, vetor))"
   ],
   "outputs": [
    {
     "output_type": "stream",
     "name": "stdout",
     "text": [
      "A matriz não é triangular\n",
      "False\n"
     ]
    }
   ],
   "metadata": {}
  },
  {
   "cell_type": "markdown",
   "source": [
    "---\r\n",
    "### 3) Implemente um algoritmo que leia uma matriz A e um vetor b (de uma planilha excel) e:\r\n",
    "\r\n"
   ],
   "metadata": {}
  },
  {
   "cell_type": "code",
   "execution_count": 278,
   "source": [
    "matriz, vetor = ler_matriz_A_vetor_b(\"prova_ALC_testes\")"
   ],
   "outputs": [],
   "metadata": {}
  },
  {
   "cell_type": "markdown",
   "source": [
    "**a)** Avalie se é possível obter o fator de Cholesky;"
   ],
   "metadata": {}
  },
  {
   "cell_type": "code",
   "execution_count": 279,
   "source": [
    "def verifica_pos_def(matriz_A):\r\n",
    "    if verifica_inversa(matriz_A) and verifica_simetria(matriz_A):\r\n",
    "        n = len(matriz_A)\r\n",
    "        for i in range(n):\r\n",
    "            soma = 0\r\n",
    "            for j in range(n):\r\n",
    "                soma += matriz_A[i,j]\r\n",
    "            if(soma == 0 or matriz_A[i,i] <= 0):\r\n",
    "                print(\"A matriz não é positiva definida.\")\r\n",
    "                return False\r\n",
    "        print(\"A matriz é positiva definida.\")\r\n",
    "        return True\r\n",
    "    print(\"A matriz não é positiva definida.\")\r\n",
    "    return False"
   ],
   "outputs": [],
   "metadata": {}
  },
  {
   "cell_type": "code",
   "execution_count": 280,
   "source": [
    "verifica_pos_def(matriz)"
   ],
   "outputs": [
    {
     "output_type": "stream",
     "name": "stdout",
     "text": [
      "A matriz é quadrada\n",
      "O determinante da matriz é: 4.253499313163557e+48\n",
      "A matriz não é simétrica.\n",
      "A matriz não é positiva definida.\n"
     ]
    },
    {
     "output_type": "execute_result",
     "data": {
      "text/plain": [
       "False"
      ]
     },
     "metadata": {},
     "execution_count": 280
    }
   ],
   "metadata": {}
  },
  {
   "cell_type": "markdown",
   "source": [
    "**b)** Resolva o sistema Ax = b usando a fatoração de Cholesky."
   ],
   "metadata": {}
  },
  {
   "cell_type": "code",
   "execution_count": 281,
   "source": [
    "def decomposicao_cholesky(matriz_A, vetor_b):\r\n",
    "    if verifica_pos_def(matriz_A):\r\n",
    "        return None\r\n",
    "    n = len(matriz_A) # n é a ordem da matriz a\r\n",
    "    matriz_R = np.copy(np.triu(matriz_A)) # matriz_r é uma cópia triangular superior da matriz A\r\n",
    "\r\n",
    "    for i in range(n):\r\n",
    "        for k in range(i): # Não é executado quando i = 0\r\n",
    "            matriz_R[i,i] = matriz_R[i,i] - math.pow(matriz_R[k,i],2) # Define os termos da diagonal principal\r\n",
    "        if matriz_R[i,i] <= 0: # Se algum elemento da diagonal principal for menor ou igual a zero, por definição, a matriz não é positiva definida\r\n",
    "            return None\r\n",
    "        matriz_R[i,i] = math.sqrt(matriz_R[i,i]) \r\n",
    "        for j in range(i+1,n): # Não é executado quando i = n\r\n",
    "            for k in range(i): # Não é executado quando i = 0\r\n",
    "                matriz_R[i,j] = matriz_R[i,j] - (matriz_R[k,i] * matriz_R[k,j])\r\n",
    "            matriz_R[i,j] = matriz_R[i,j]/matriz_R[i,i]\r\n",
    "\r\n",
    "    return resolve_cholesky(matriz_R, vetor_b)\r\n",
    "\r\n",
    "def resolve_cholesky(matriz_R, vetor_b):\r\n",
    "    matriz_Rt = np.copy(np.transpose(matriz_R)) # matriz_rt é a matriz R transposta\r\n",
    "    \r\n",
    "    vetor_y = subs.resolve_substituicao(matriz_Rt, vetor_b) # Faz o cálculo de Rt * y = b para obter o vetor y\r\n",
    "    vetor_x = subs.resolve_substituicao(matriz_R, vetor_y) # Faz o cálculo de R * x = y para obter o vetor x (resultado)\r\n",
    "\r\n",
    "    return vetor_x # Retorna o vetor x (resultado)"
   ],
   "outputs": [],
   "metadata": {}
  },
  {
   "cell_type": "code",
   "execution_count": 282,
   "source": [
    "decomposicao_cholesky(matriz, vetor)"
   ],
   "outputs": [
    {
     "output_type": "stream",
     "name": "stdout",
     "text": [
      "A matriz é quadrada\n",
      "O determinante da matriz é: 4.253499313163557e+48\n",
      "A matriz não é simétrica.\n",
      "A matriz não é positiva definida.\n"
     ]
    }
   ],
   "metadata": {}
  },
  {
   "cell_type": "markdown",
   "source": [
    "---\r\n",
    "### 4) Implemente um algoritmo que leia uma matriz A e um vetor b (de uma planilha excel) e:"
   ],
   "metadata": {}
  },
  {
   "cell_type": "code",
   "execution_count": 283,
   "source": [
    "matriz, vetor = ler_matriz_A_vetor_b(\"prova_ALC_testes\")"
   ],
   "outputs": [],
   "metadata": {}
  },
  {
   "cell_type": "markdown",
   "source": [
    "**a)** Avalie se algum critério é satisfeito para aplicação dos métodos de Gauss-Seidel, Jacobi e SOR;"
   ],
   "metadata": {}
  },
  {
   "cell_type": "code",
   "execution_count": 284,
   "source": [
    "def criterio_linhas(matriz_A): # Verificar o critério das linhas para o método de Jacobi\r\n",
    "    n, m = len(matriz_A), len(matriz_A[0]) # n e m são as dimensões da matriz\r\n",
    "    soma = 0\r\n",
    "\r\n",
    "    for i in range(n): # Percorre toda a matriz\r\n",
    "        for j in range(m):\r\n",
    "            if i != j: # Desconsidera os termos da diagonal principal\r\n",
    "                soma += np.abs(matriz_A[i,j])\r\n",
    "\r\n",
    "        if soma >= np.abs(matriz_A[i,i]): # Verifica se a soma de todos os termos (sem contar o termo da diagonal principal) de cada linha é menor ou maior que o termo da diagonal principal (Critério das linhas)\r\n",
    "            return False\r\n",
    "\r\n",
    "        soma = 0\r\n",
    "    return True"
   ],
   "outputs": [],
   "metadata": {}
  },
  {
   "cell_type": "code",
   "execution_count": 285,
   "source": [
    "def criterio_sassenfeld(matriz_A):\r\n",
    "    n, m = len(matriz_A), len(matriz_A[0]) # n e m são as dimensões da matriz\r\n",
    "    aux = 0 # Variável que auxilia nos somatórios dos termos tanto de Aij*Beta, quanto de Aij\r\n",
    "    vetor_betao = np.zeros(m) # Vetor de Betas iniciado com termos iguais a zero\r\n",
    "\r\n",
    "    for i in range(n):\r\n",
    "        for j in range(i): # j vai até i-1 (desconsidera a primeira iteração)\r\n",
    "            aux += np.abs(matriz_A[i,j]) * vetor_betao[j] # A partir da segunda iteração, inclui a multiplicação de Aij pelos Betas anteriores no somatório (já que na primeira iteração não há Betas anteriores, obviamente)\r\n",
    "        for j in range(i,n):\r\n",
    "            aux += np.abs(matriz_A[i,j]) # Somatório dos módulos dos termos de Aij\r\n",
    "        vetor_betao[i] = aux/np.abs(matriz_A[i,i]) #Divide o valor da soma pelo termo da diagonal principal\r\n",
    "        aux = 0 # Zera a variável auxiliar pra próxima iteração\r\n",
    "    \r\n",
    "    print(\"Maior betão:\", np.max(vetor_betao))\r\n",
    "    if np.max(vetor_betao) < 1: # Verifica se a condição do critério de Sassenfeld (max(B) < 1) é satisfeita\r\n",
    "        return True\r\n",
    "    return False"
   ],
   "outputs": [],
   "metadata": {}
  },
  {
   "cell_type": "code",
   "execution_count": 286,
   "source": [
    "criterio_linhas(matriz)"
   ],
   "outputs": [
    {
     "output_type": "execute_result",
     "data": {
      "text/plain": [
       "False"
      ]
     },
     "metadata": {},
     "execution_count": 286
    }
   ],
   "metadata": {}
  },
  {
   "cell_type": "code",
   "execution_count": 287,
   "source": [
    "criterio_sassenfeld(matriz)"
   ],
   "outputs": [
    {
     "output_type": "stream",
     "name": "stdout",
     "text": [
      "Maior betão: 10602274533433.357\n"
     ]
    },
    {
     "output_type": "execute_result",
     "data": {
      "text/plain": [
       "False"
      ]
     },
     "metadata": {},
     "execution_count": 287
    }
   ],
   "metadata": {}
  },
  {
   "cell_type": "markdown",
   "source": [
    "**b)** Resolva o sistema Ax = b usando os métodos iterativos de Gauss-Seidel, Jacobi e SOR."
   ],
   "metadata": {}
  },
  {
   "cell_type": "markdown",
   "source": [
    "## Jacobi"
   ],
   "metadata": {}
  },
  {
   "cell_type": "code",
   "execution_count": 288,
   "source": [
    "def jacobi(matriz_A, vetor_b, vetor_x=0, N=10000, p=1e-15): # Função que executa o algoritmo de Jacobi\r\n",
    "    n, m = len(matriz_A), len(matriz_A[0]) # n e m são as dimensões da matriz\r\n",
    "    aux = 0 # Variável que vai auxiliar a armazenar as subtrações dos valores Aij*xj\r\n",
    "\r\n",
    "    if isinstance(vetor_x, int): # Se não é fornecido um vetor de aproximação inicial para x, ele é iniciado aqui com todos os elementos iguais a zero\r\n",
    "        vetor_x = np.zeros(m)\r\n",
    "    \r\n",
    "    vetor_aux = np.copy(vetor_x) # Vetor auxiliar igual ao vetor x que representa a iteração k+1\r\n",
    "\r\n",
    "    if criterio_linhas(matriz_A): # Verifica se o critério das linhas é satisfeito\r\n",
    "        print(\"O critério das linhas foi satisfeito: O sistema converge.\")\r\n",
    "    else:\r\n",
    "        print(\"ATENÇÃO: O critério das linhas não foi satisfeito.\")\r\n",
    "\r\n",
    "    for k in range(N): # Executa todas as iterações especificadas na chamada da função (N) se a condição de parada não for satisfeita\r\n",
    "        for i in range(n):\r\n",
    "            for j in range(n):\r\n",
    "                if i != j: # Pula os elementos da diagonal principal pois eles não são utilizados\r\n",
    "                    aux += matriz_A[i,j] * vetor_x[j] # Acumula as subtrações dos valores de Aij*xj\r\n",
    "            \r\n",
    "            vetor_aux[i] = (vetor_b[i] - aux)/matriz_A[i,i] # Executa a iteração do método com (bi-Aij*xj)/Aii\r\n",
    "            aux = 0 # Zera a contagem do somatório dos valores novamente\r\n",
    "\r\n",
    "        termos_encontrados = 0\r\n",
    "        for i in range(n): #Verifica elemento por elemento de vetor_x e do vetor_aux\r\n",
    "            if vetor_x[i] != 0:\r\n",
    "                if np.abs(vetor_aux[i] - vetor_x[i])/np.abs(vetor_x[i]) <= p: # Condição de parada caso a variação relativa de uma iteração para outra seja menor que a tolerância p \r\n",
    "                    termos_encontrados += 1\r\n",
    "            else:\r\n",
    "                if np.abs(vetor_aux[i] - vetor_x[i]) <= p*np.abs(vetor_x[i]):\r\n",
    "                    termos_encontrados += 1\r\n",
    "                    \r\n",
    "        if(termos_encontrados == n):\r\n",
    "            print(\"(Jacobi) Resultado encontrado com o critério de parada, na iteração:\", k)\r\n",
    "            return vetor_x\r\n",
    "\r\n",
    "        vetor_x = np.copy(vetor_aux) # Atualiza o vetor_x (k) com os valores do vetor_aux (k+1)\r\n",
    "\r\n",
    "    print(\"(Jacobi) Resultado encontrado com o número máximo de iterações.\")\r\n",
    "    return vetor_x # Retorna o vetor solução"
   ],
   "outputs": [],
   "metadata": {}
  },
  {
   "cell_type": "code",
   "execution_count": 289,
   "source": [
    "print(jacobi(matriz, vetor, N=100))"
   ],
   "outputs": [
    {
     "output_type": "stream",
     "name": "stdout",
     "text": [
      "ATENÇÃO: O critério das linhas não foi satisfeito.\n",
      "(Jacobi) Resultado encontrado com o número máximo de iterações.\n",
      "[-2.21507407e+191 -7.85062201e+191 -4.02063148e+191 -3.00124088e+191\n",
      " -2.34581480e+192 -2.32464880e+191 -4.58103429e+192 -4.79832453e+191\n",
      " -5.85375866e+191 -4.90112952e+191 -2.01091315e+191 -2.59706719e+191\n",
      " -6.26779852e+191 -1.21273532e+192 -8.04504337e+192 -2.42684232e+192\n",
      " -4.65327284e+191 -2.98587023e+191 -3.29553950e+191 -4.17899256e+191\n",
      " -4.88807065e+191 -4.20548399e+191 -3.16760574e+192 -1.26588784e+192\n",
      " -1.08434271e+193]\n"
     ]
    }
   ],
   "metadata": {}
  },
  {
   "cell_type": "markdown",
   "source": [
    "## Gauss-Seidel"
   ],
   "metadata": {}
  },
  {
   "cell_type": "code",
   "execution_count": 290,
   "source": [
    "def seidel(matriz_A, vetor_b, vetor_x=0, N=1000, p=1e-15): # Função que executa o algoritmo de Gauss-Seidel\r\n",
    "    n, m = len(matriz_A), len(matriz_A[0]) # n e m são as dimensões da matriz\r\n",
    "    aux = 0 # Variável que vai auxiliar a armazenar as subtrações dos valores Aij*xj\r\n",
    "\r\n",
    "    if isinstance(vetor_x, int): # Se não é fornecido um vetor de aproximação inicial para x, ele é iniciado aqui com todos os elementos iguais a zero\r\n",
    "        vetor_x = np.zeros(m)\r\n",
    "\r\n",
    "    vetor_aux = np.copy(vetor_x) # Vetor auxiliar igual ao vetor x que representa a iteração k+1\r\n",
    "    \t\r\n",
    "    if criterio_linhas(matriz_A): # Verifica se o critério das linhas é satisfeito\r\n",
    "        print(\"O critério das linhas foi satisfeito: O sistema converge.\")\r\n",
    "    else:\r\n",
    "        print(\"ATENÇÃO: O critério das linhas não foi satisfeito.\")\r\n",
    "\r\n",
    "    if criterio_sassenfeld(matriz_A): # Verifica se o critério de Sassenfeld é satisfeito\r\n",
    "        print(\"O critério de Sassenfeld foi satisfeito.\")\r\n",
    "    else:\r\n",
    "        print(\"ATENÇÃO: O critério de Sassenfeld não foi satisfeito.\")\r\n",
    "\r\n",
    "    for k in range(N): # Executa todas as iterações especificadas na chamada da função\r\n",
    "        for i in range(n):\r\n",
    "            for j in range(m):\r\n",
    "                if i != j: # Pula os elementos da diagonal principal pois eles não são utilizados\r\n",
    "                    if i > j:\r\n",
    "                        aux += matriz_A[i,j] * vetor_aux[j] # Acumula as subtrações dos valores de Aij*xj utilizando os valores que já foram atualizados (de 0 a i) que ficam no vetor auxiliar\r\n",
    "                    else:\r\n",
    "                        aux += matriz_A[i,j] * vetor_x[j] # Acumula as subtrações dos valores de Aij*xj utilizando os valores ainda não foram atualizados (de i+1 a n) que ficam no vetor x\r\n",
    "\r\n",
    "            vetor_aux[i] = (vetor_b[i] - aux)/matriz_A[i,i] # Executa a iteração do método com (bi-Aij*xj)/Aii\r\n",
    "            aux = 0 # Zera a contagem do somatório dos valores novamente\r\n",
    "\r\n",
    "        termos_encontrados = 0\r\n",
    "        for i in range(n): #Verifica elemento por elemento de vetor_x e do vetor_aux\r\n",
    "            if vetor_x[i] != 0:\r\n",
    "                if np.abs(vetor_aux[i] - vetor_x[i])/np.abs(vetor_x[i]) <= p: # Condição de parada caso a variação relativa de uma iteração para outra seja menor que a tolerância p \r\n",
    "                    termos_encontrados += 1\r\n",
    "            else:\r\n",
    "                if np.abs(vetor_aux[i] - vetor_x[i]) <= p*np.abs(vetor_x[i]):\r\n",
    "                    termos_encontrados += 1\r\n",
    "                    \r\n",
    "        if(termos_encontrados == n):\r\n",
    "                print(\"(Seidel) Resultado encontrado com o critério de parada, na iteração:\", k)\r\n",
    "                return vetor_x\r\n",
    "\r\n",
    "        vetor_x = np.copy(vetor_aux) # Atualiza o vetor_x (k) com os valores do vetor_aux (k+1)\r\n",
    "\r\n",
    "    print(\"(Seidel) Resultado encontrado com o número máximo de iterações.\")\r\n",
    "    return vetor_x # Retorna o vetor solução"
   ],
   "outputs": [],
   "metadata": {}
  },
  {
   "cell_type": "code",
   "execution_count": 291,
   "source": [
    "print(seidel(matriz, vetor))"
   ],
   "outputs": [
    {
     "output_type": "stream",
     "name": "stdout",
     "text": [
      "ATENÇÃO: O critério das linhas não foi satisfeito.\n",
      "Maior betão: 10602274533433.357\n",
      "ATENÇÃO: O critério de Sassenfeld não foi satisfeito.\n",
      "(Seidel) Resultado encontrado com o número máximo de iterações.\n",
      "[nan nan nan nan nan nan nan nan nan nan nan nan nan nan nan nan nan nan\n",
      " nan nan nan nan nan nan nan]\n"
     ]
    }
   ],
   "metadata": {}
  },
  {
   "cell_type": "markdown",
   "source": [
    "## SOR"
   ],
   "metadata": {}
  },
  {
   "cell_type": "code",
   "execution_count": 292,
   "source": [
    "def calcular_omega_otimo(matriz_A):\r\n",
    "    if verifica_pos_def(matriz_A) == False or verifica_tridiagonal(matriz_A, debug=True) == False:\r\n",
    "        print(\"Não há como encontrar w ótimo.\")\r\n",
    "        return None       \r\n",
    "\r\n",
    "    n = len(matriz_A)\r\n",
    "    D = np.copy(matriz_A)\r\n",
    "    for i in range(n):\r\n",
    "        for j in range(n):\r\n",
    "            if i != j:\r\n",
    "                D[i,j] = 0.\r\n",
    "\r\n",
    "    D = np.linalg.inv(D)\r\n",
    "    L = np.tril(matriz_A)\r\n",
    "    U = np.triu(matriz_A)\r\n",
    "\r\n",
    "    for i in range(n):\r\n",
    "        for j in range(n):\r\n",
    "            if i == j:\r\n",
    "                L[i,j] = 0.\r\n",
    "                U[i,j] = 0.\r\n",
    "\r\n",
    "    LU = L + U\r\n",
    "    T = np.matmul(D, LU)\r\n",
    "    P = np.linalg.eig(T)\r\n",
    "    p = np.amax(P[0])\r\n",
    "    \r\n",
    "    print(\"omega: {}\".format(2/(1 + math.sqrt(1 - pow(p, 2)))))\r\n",
    "    return 2/(1 + math.sqrt(1 - pow(p, 2)))\r\n",
    "    "
   ],
   "outputs": [],
   "metadata": {}
  },
  {
   "cell_type": "code",
   "execution_count": 293,
   "source": [
    "def sor(matriz_A, vetor_b, vetor_x=0, N=10000, p=1e-15, w=1.7): # Quando w = 1 é igual ao Seidel\r\n",
    "    n, m = len(matriz_A), len(matriz_A[0]) # n e m são as dimensões da matriz\r\n",
    "    aux = 0 # Variável que vai auxiliar a armazenar as subtrações dos valores Aij*xj\r\n",
    "    \r\n",
    "    omega = calcular_omega_otimo(matriz_A)\r\n",
    "    \r\n",
    "    if omega != None:\r\n",
    "        w = omega\r\n",
    "\r\n",
    "    if isinstance(vetor_x, int): # Se não é fornecido um vetor de aproximação inicial para x, ele é iniciado aqui com todos os elementos iguais a zero\r\n",
    "        vetor_x = np.zeros(m)\r\n",
    "\r\n",
    "    vetor_aux = np.copy(vetor_x) # Vetor auxiliar igual ao vetor x que representa a iteração k+1\r\n",
    "\r\n",
    "    if criterio_linhas(matriz_A): # Verifica se o critério das linhas é satisfeito\r\n",
    "        print(\"O critério das linhas foi satisfeito: O sistema converge.\")\r\n",
    "    else:\r\n",
    "        print(\"ATENÇÃO: O critério das linhas não foi satisfeito.\")\r\n",
    "\r\n",
    "    if criterio_sassenfeld(matriz_A): # Verifica se o critério das linhas é satisfeito\r\n",
    "        print(\"O critério de Sassenfeld foi satisfeito.\")\r\n",
    "    else:\r\n",
    "        print(\"ATENÇÃO: O critério de Sassenfeld não foi satisfeito.\")\r\n",
    "\r\n",
    "    for k in range(N): # Executa todas as iterações especificadas na chamada da função\r\n",
    "        for i in range(n):\r\n",
    "            for j in range(m):\r\n",
    "                if i != j: # Pula os elementos da diagonal principal pois eles não são utilizados\r\n",
    "                    if i > j:\r\n",
    "                        aux += matriz_A[i,j] * vetor_aux[j] # Acumula as subtrações dos valores de Aij*xj utilizando os valores que já foram atualizados (de 0 a i) que ficam no vetor auxiliar\r\n",
    "                    else:\r\n",
    "                        aux += matriz_A[i,j] * vetor_x[j] # Acumula as subtrações dos valores de Aij*xj utilizando os valores ainda não foram atualizados (de i+1 a n) que ficam no vetor x\r\n",
    "\r\n",
    "            vetor_aux[i] = (1-w)*vetor_x[i] + (w*(vetor_b[i] - aux))/matriz_A[i,i] # Executa a iteração do método com (1-w)*xi(bi-Aij*xj)/Aii\r\n",
    "            aux = 0 # Zera a contagem do somatório dos valores novamente\r\n",
    "\r\n",
    "        termos_encontrados = 0\r\n",
    "        for i in range(n): #Verifica elemento por elemento de vetor_x e do vetor_aux\r\n",
    "            if vetor_x[i] != 0:\r\n",
    "                if np.abs(vetor_aux[i] - vetor_x[i])/np.abs(vetor_x[i]) <= p: # Condição de parada caso a variação relativa de uma iteração para outra seja menor que a tolerância p \r\n",
    "                    termos_encontrados += 1\r\n",
    "            else:\r\n",
    "                if np.abs(vetor_aux[i] - vetor_x[i]) <= p*np.abs(vetor_x[i]):\r\n",
    "                    termos_encontrados += 1\r\n",
    "                    \r\n",
    "        if(termos_encontrados == n):\r\n",
    "                print(\"(SOR) Resultado encontrado com o critério de parada, na iteração:\", k)\r\n",
    "                return vetor_x\r\n",
    "\r\n",
    "        vetor_x = np.copy(vetor_aux) # Atualiza o vetor_x (k) com os valores do vetor_aux (k+1)\r\n",
    "\r\n",
    "    print(\"(SOR) Resultado encontrado com o número máximo de iterações:\")\r\n",
    "    return vetor_x # Retorna o vetor solução"
   ],
   "outputs": [],
   "metadata": {}
  },
  {
   "cell_type": "code",
   "execution_count": 294,
   "source": [
    "sor(matriz, vetor)"
   ],
   "outputs": [
    {
     "output_type": "stream",
     "name": "stdout",
     "text": [
      "A matriz é quadrada\n",
      "O determinante da matriz é: 4.253499313163557e+48\n",
      "A matriz não é simétrica.\n",
      "A matriz não é positiva definida.\n",
      "Não há como encontrar w ótimo.\n",
      "ATENÇÃO: O critério das linhas não foi satisfeito.\n",
      "Maior betão: 10602274533433.357\n",
      "ATENÇÃO: O critério de Sassenfeld não foi satisfeito.\n",
      "(SOR) Resultado encontrado com o número máximo de iterações:\n"
     ]
    },
    {
     "output_type": "execute_result",
     "data": {
      "text/plain": [
       "array([nan, nan, nan, nan, nan, nan, nan, nan, nan, nan, nan, nan, nan,\n",
       "       nan, nan, nan, nan, nan, nan, nan, nan, nan, nan, nan, nan])"
      ]
     },
     "metadata": {},
     "execution_count": 294
    }
   ],
   "metadata": {}
  },
  {
   "cell_type": "markdown",
   "source": [
    "---\n",
    "### 5) Implemente um algoritmo que leia uma matriz A (de uma planilha excel) e:"
   ],
   "metadata": {}
  },
  {
   "cell_type": "code",
   "execution_count": 295,
   "source": [
    "def ler_matriz_A(file_matrix):\r\n",
    "    df_matriz = pd.read_excel(r\"dados/\"+file_matrix+\".xlsx\", header=None, sheet_name=\"A\") # Le o arquivo do excel que contém a matriz A sem cabeçalho\r\n",
    "    matriz = np.array(df_matriz, dtype='f8') # Converte a matriz A em um array da numpy\r\n",
    "    return matriz"
   ],
   "outputs": [],
   "metadata": {}
  },
  {
   "cell_type": "code",
   "execution_count": 296,
   "source": [
    "matriz = ler_matriz_A(\"prova_ALC_testes\")"
   ],
   "outputs": [],
   "metadata": {}
  },
  {
   "cell_type": "markdown",
   "source": [
    "**a)** Calcule a transposta de A;"
   ],
   "metadata": {}
  },
  {
   "cell_type": "code",
   "execution_count": 297,
   "source": [
    "def calcula_transposta(matriz_A):\r\n",
    "    if not verifica_quadrada(matriz_A):\r\n",
    "        print(\"A matriz não é quadrada.\")\r\n",
    "        return None\r\n",
    "\r\n",
    "    n = len(matriz_A)\r\n",
    "    matriz_At = np.zeros((n,n), dtype='f8')\r\n",
    "\r\n",
    "    for i in range(n):\r\n",
    "        for j in range(n):\r\n",
    "            if i == j:\r\n",
    "                matriz_At[i,j] = matriz_A[i,j]\r\n",
    "            else:\r\n",
    "                matriz_At[i,j] = matriz_A[j,i]\r\n",
    "    \r\n",
    "    return matriz_At"
   ],
   "outputs": [],
   "metadata": {}
  },
  {
   "cell_type": "code",
   "execution_count": 298,
   "source": [
    "calcula_transposta(matriz)"
   ],
   "outputs": [
    {
     "output_type": "execute_result",
     "data": {
      "text/plain": [
       "array([[ 91452.,  55679.,  74196.,  50369.,  65933.,  58983.,  57282.,\n",
       "         86619.,  77605.,  58674.,  59851.,  64857.,  69439.,  55411.,\n",
       "         53319.,  66426.,  58593.,  64599.,  76799.,  73032.,  64518.,\n",
       "         48233.,  66645.,  60829.,  66596.],\n",
       "       [ 55679.,  65707.,  74216.,  37748.,  57071.,  53220.,  58214.,\n",
       "         72412.,  57615.,  47372.,  45828.,  51951.,  57106.,  52960.,\n",
       "         49850.,  52216.,  59587.,  62269.,  69177.,  70313.,  58249.,\n",
       "         50165.,  52239.,  53685.,  50243.],\n",
       "       [ 74196.,  74216., 106855.,  53876.,  66014.,  75409.,  71392.,\n",
       "        100305.,  77671.,  61476.,  67259.,  69436.,  74697.,  67445.,\n",
       "         60738.,  74261.,  75472.,  80328.,  86587.,  88406.,  76591.,\n",
       "         70006.,  64575.,  66976.,  70245.],\n",
       "       [ 50369.,  37748.,  53876.,  48748.,  41012.,  44969.,  38317.,\n",
       "         58496.,  47805.,  41115.,  42991.,  51213.,  52266.,  45265.,\n",
       "         37281.,  46016.,  46906.,  45027.,  47163.,  46086.,  51440.,\n",
       "         37987.,  45395.,  38554.,  50585.],\n",
       "       [ 65933.,  57071.,  66014.,  41012.,  79341.,  54990.,  48071.,\n",
       "         73169.,  68617.,  48358.,  52529.,  59419.,  60988.,  49604.,\n",
       "         45862.,  47887.,  60380.,  61638.,  70678.,  67484.,  64183.,\n",
       "         40100.,  66726.,  61053.,  63560.],\n",
       "       [ 58983.,  53220.,  75409.,  44969.,  54990.,  81033.,  55404.,\n",
       "         71312.,  69545.,  39659.,  56638.,  54765.,  62119.,  48354.,\n",
       "         51622.,  53278.,  55752.,  58712.,  72928.,  68654.,  62901.,\n",
       "         54749.,  59374.,  48251.,  57492.],\n",
       "       [ 57282.,  58214.,  71392.,  38317.,  48071.,  55404.,  70860.,\n",
       "         66195.,  58152.,  40066.,  44798.,  44856.,  62974.,  56700.,\n",
       "         47595.,  56390.,  56159.,  62644.,  68640.,  62619.,  60449.,\n",
       "         54762.,  46380.,  45245.,  46442.],\n",
       "       [ 86619.,  72412., 100305.,  58496.,  73169.,  71312.,  66195.,\n",
       "        119662.,  78127.,  73439.,  65880.,  71849.,  76429.,  72657.,\n",
       "         66130.,  81352.,  70572.,  85049.,  91567.,  92798.,  77968.,\n",
       "         65462.,  72862.,  71505.,  78249.],\n",
       "       [ 77605.,  57615.,  77671.,  47805.,  68617.,  69545.,  58152.,\n",
       "         78127.,  95010.,  47967.,  63304.,  70526.,  70080.,  49868.,\n",
       "         55068.,  65282.,  62660.,  63675.,  80032.,  80175.,  70347.,\n",
       "         53446.,  69325.,  64456.,  68950.],\n",
       "       [ 58674.,  47372.,  61476.,  41115.,  48358.,  39659.,  40066.,\n",
       "         73439.,  47967.,  62381.,  48742.,  46488.,  55011.,  55790.,\n",
       "         41509.,  57698.,  43944.,  51390.,  56613.,  59549.,  58542.,\n",
       "         38889.,  49767.,  48121.,  57648.],\n",
       "       [ 59851.,  45828.,  67259.,  42991.,  52529.,  56638.,  44798.,\n",
       "         65880.,  63304.,  48742.,  61735.,  54519.,  62740.,  45391.,\n",
       "         42671.,  55453.,  48817.,  52109.,  58966.,  62451.,  59620.,\n",
       "         44416.,  54339.,  47345.,  60586.],\n",
       "       [ 64857.,  51951.,  69436.,  51213.,  59419.,  54765.,  44856.,\n",
       "         71849.,  70526.,  46488.,  54519.,  86233.,  69696.,  46373.,\n",
       "         53911.,  56829.,  62156.,  61194.,  64494.,  72696.,  64713.,\n",
       "         41217.,  62938.,  64332.,  63511.],\n",
       "       [ 69439.,  57106.,  74697.,  52266.,  60988.,  62119.,  62974.,\n",
       "         76429.,  70080.,  55011.,  62740.,  69696.,  88343.,  63047.,\n",
       "         58429.,  70516.,  57778.,  72127.,  71249.,  73181.,  68927.,\n",
       "         54201.,  61029.,  56029.,  63691.],\n",
       "       [ 55411.,  52960.,  67445.,  45265.,  49604.,  48354.,  56700.,\n",
       "         72657.,  49868.,  55790.,  45391.,  46373.,  63047.,  72923.,\n",
       "         41999.,  58256.,  51047.,  65167.,  62432.,  56009.,  60077.,\n",
       "         52371.,  51691.,  49725.,  51968.],\n",
       "       [ 53319.,  49850.,  60738.,  37281.,  45862.,  51622.,  47595.,\n",
       "         66130.,  55068.,  41509.,  42671.,  53911.,  58429.,  41999.,\n",
       "         59338.,  50999.,  44441.,  59090.,  56983.,  62862.,  52121.,\n",
       "         38740.,  50123.,  46163.,  44724.],\n",
       "       [ 66426.,  52216.,  74261.,  46016.,  47887.,  53278.,  56390.,\n",
       "         81352.,  65282.,  57698.,  55453.,  56829.,  70516.,  58256.,\n",
       "         50999.,  80679.,  50279.,  64435.,  68755.,  68819.,  65497.,\n",
       "         57893.,  47295.,  48008.,  62149.],\n",
       "       [ 58593.,  59587.,  75472.,  46906.,  60380.,  55752.,  56159.,\n",
       "         70572.,  62660.,  43944.,  48817.,  62156.,  57778.,  51047.,\n",
       "         44441.,  50279.,  79370.,  64060.,  67823.,  72858.,  67075.,\n",
       "         53125.,  64238.,  54453.,  53791.],\n",
       "       [ 64599.,  62269.,  80328.,  45027.,  61638.,  58712.,  62644.,\n",
       "         85049.,  63675.,  51390.,  52109.,  61194.,  72127.,  65167.,\n",
       "         59090.,  64435.,  64060.,  89614.,  69058.,  75253.,  60567.,\n",
       "         60826.,  65264.,  56169.,  48050.],\n",
       "       [ 76799.,  69177.,  86587.,  47163.,  70678.,  72928.,  68640.,\n",
       "         91567.,  80032.,  56613.,  58966.,  64494.,  71249.,  62432.,\n",
       "         56983.,  68755.,  67823.,  69058.,  95485.,  87216.,  73030.,\n",
       "         57886.,  67621.,  63402.,  68153.],\n",
       "       [ 73032.,  70313.,  88406.,  46086.,  67484.,  68654.,  62619.,\n",
       "         92798.,  80175.,  59549.,  62451.,  72696.,  73181.,  56009.,\n",
       "         62862.,  68819.,  72858.,  75253.,  87216., 104616.,  75308.,\n",
       "         57730.,  72067.,  66660.,  64582.],\n",
       "       [ 64518.,  58249.,  76591.,  51440.,  64183.,  62901.,  60449.,\n",
       "         77968.,  70347.,  58542.,  59620.,  64713.,  68927.,  60077.,\n",
       "         52121.,  65497.,  67075.,  60567.,  73030.,  75308.,  87788.,\n",
       "         51382.,  64059.,  61285.,  75877.],\n",
       "       [ 48233.,  50165.,  70006.,  37987.,  40100.,  54749.,  54762.,\n",
       "         65462.,  53446.,  38889.,  44416.,  41217.,  54201.,  52371.,\n",
       "         38740.,  57893.,  53125.,  60826.,  57886.,  57730.,  51382.,\n",
       "         63215.,  41599.,  39606.,  42276.],\n",
       "       [ 66645.,  52239.,  64575.,  45395.,  66726.,  59374.,  46380.,\n",
       "         72862.,  69325.,  49767.,  54339.,  62938.,  61029.,  51691.,\n",
       "         50123.,  47295.,  64238.,  65264.,  67621.,  72067.,  64059.,\n",
       "         41599.,  81339.,  59117.,  58287.],\n",
       "       [ 60829.,  53685.,  66976.,  38554.,  61053.,  48251.,  45245.,\n",
       "         71505.,  64456.,  48121.,  47345.,  64332.,  56029.,  49725.,\n",
       "         46163.,  48008.,  54453.,  56169.,  63402.,  66660.,  61285.,\n",
       "         39606.,  59117.,  70832.,  60604.],\n",
       "       [ 66596.,  50243.,  70245.,  50585.,  63560.,  57492.,  46442.,\n",
       "         78249.,  68950.,  57648.,  60586.,  63511.,  63691.,  51968.,\n",
       "         44724.,  62149.,  53791.,  48050.,  68153.,  64582.,  75877.,\n",
       "         42276.,  58287.,  60604.,  82109.]])"
      ]
     },
     "metadata": {},
     "execution_count": 298
    }
   ],
   "metadata": {}
  },
  {
   "cell_type": "markdown",
   "source": [
    "**b)** Calcule o determinante de A;"
   ],
   "metadata": {}
  },
  {
   "cell_type": "code",
   "execution_count": 299,
   "source": [
    "def eliminacao_gauss(matriz_A):\r\n",
    "    n = len(matriz_A)\r\n",
    "    Am = np.array(matriz_A).astype(\"float64\")\r\n",
    "\r\n",
    "    for i in range(n):\r\n",
    "        for j in range(i+1, n):\r\n",
    "            if Am[i,i] == 0:\r\n",
    "                Am[i,i] = 1e-18\r\n",
    "\r\n",
    "            x = Am[j,i]/Am[i,i] # x é o multiplicador necessário para executar a eliminação\r\n",
    "            for k in range(n):\r\n",
    "               Am[j,k] -= Am[i,k] * x # aplica o multiplicador x para zerar os elementos abaixo da diagonal principal\r\n",
    "\r\n",
    "    return calcula_determinante(Am, n) # retorna o vetor resultado\r\n",
    "\r\n",
    "def calcula_determinante(matriz_A, n):\r\n",
    "    det = 1\r\n",
    "    for i in range(n):\r\n",
    "        det *= matriz_A[i,i]\r\n",
    "    return det"
   ],
   "outputs": [],
   "metadata": {}
  },
  {
   "cell_type": "code",
   "execution_count": 300,
   "source": [
    "eliminacao_gauss(matriz)"
   ],
   "outputs": [
    {
     "output_type": "execute_result",
     "data": {
      "text/plain": [
       "1.8092256407162663e+97"
      ],
      "text/latex": [
       "$\\displaystyle 1.80922564071627 \\cdot 10^{97}$"
      ]
     },
     "metadata": {},
     "execution_count": 300
    }
   ],
   "metadata": {}
  },
  {
   "cell_type": "markdown",
   "source": [
    "**c)** Calcule a matriz adjunta de A;"
   ],
   "metadata": {}
  },
  {
   "cell_type": "code",
   "execution_count": 301,
   "source": [
    "def calcula_adjunta(matriz_A):\r\n",
    "    if verifica_inversa(matriz_A):\r\n",
    "        matriz_Adj = np.linalg.inv(matriz_A) * eliminacao_gauss(matriz_A)\r\n",
    "        return matriz_Adj"
   ],
   "outputs": [],
   "metadata": {}
  },
  {
   "cell_type": "code",
   "execution_count": 302,
   "source": [
    "print(calcula_adjunta(matriz))"
   ],
   "outputs": [
    {
     "output_type": "stream",
     "name": "stdout",
     "text": [
      "A matriz é quadrada\n",
      "O determinante da matriz é: 1.8092256407074624e+97\n",
      "[[ 2.18976648e+96  3.29994217e+96  5.58389985e+95  2.92783527e+95\n",
      "  -2.03534984e+96 -2.36899618e+96 -5.50695114e+96  5.56505936e+95\n",
      "  -3.82070029e+95 -5.35550547e+96  1.49829376e+96 -1.61176699e+96\n",
      "   1.73225255e+96  1.54159730e+96  3.86518043e+95 -1.03851399e+96\n",
      "  -1.03318594e+96  3.84136131e+95  2.15896487e+96 -5.31253148e+95\n",
      "   3.99371498e+96  4.93413144e+95  6.98444992e+94 -3.03110404e+95\n",
      "  -8.49040544e+95]\n",
      " [ 3.29994217e+96  4.98290950e+96  8.39954897e+95  4.43369933e+95\n",
      "  -3.07182723e+96 -3.57137721e+96 -8.30586076e+96  8.42264733e+95\n",
      "  -5.74222763e+95 -8.07654383e+96  2.26034329e+96 -2.43160828e+96\n",
      "   2.61440020e+96  2.32211712e+96  5.78620430e+95 -1.56446934e+96\n",
      "  -1.55871781e+96  5.80478295e+95  3.25585364e+96 -8.03621022e+95\n",
      "   6.02497461e+96  7.40936689e+95  1.06077010e+95 -4.55738134e+95\n",
      "  -1.28356107e+96]\n",
      " [ 5.58389985e+95  8.39954897e+95  1.46970788e+95  7.58187475e+94\n",
      "  -5.17157626e+95 -6.05386182e+95 -1.40396100e+96  1.40097624e+95\n",
      "  -9.81748804e+94 -1.36586070e+96  3.79552354e+95 -4.10949870e+95\n",
      "   4.42039654e+95  3.92767708e+95  9.88910370e+94 -2.64190017e+95\n",
      "  -2.65942854e+95  9.62952834e+94  5.50215187e+95 -1.34673858e+95\n",
      "   1.01850705e+96  1.26762941e+95  2.01771484e+94 -7.79358071e+94\n",
      "  -2.16839447e+95]\n",
      " [ 2.92783527e+95  4.43369933e+95  7.58187475e+94  4.58038632e+94\n",
      "  -2.72962739e+95 -3.18733566e+95 -7.38671835e+95  7.30265511e+94\n",
      "  -5.19362070e+94 -7.18343220e+95  2.00610517e+95 -2.18400931e+95\n",
      "   2.32342773e+95  2.03108995e+95  4.99338622e+94 -1.38252449e+95\n",
      "  -1.41493347e+95  5.34384453e+94  2.91933196e+95 -7.08999975e+94\n",
      "   5.36874118e+95  6.57232328e+94  1.01775014e+94 -3.80500413e+94\n",
      "  -1.15866344e+95]\n",
      " [-2.03534984e+96 -3.07182723e+96 -5.17157626e+95 -2.72962739e+95\n",
      "   1.89906155e+96  2.20360327e+96  5.12389714e+96 -5.18181279e+95\n",
      "   3.52662809e+95  4.97753565e+96 -1.39306724e+96  1.50054559e+96\n",
      "  -1.61415227e+96 -1.42927771e+96 -3.56935914e+95  9.70109445e+95\n",
      "   9.60132651e+95 -3.63289134e+95 -2.01245774e+96  4.97014091e+95\n",
      "  -3.71606201e+96 -4.58408829e+95 -6.35382105e+94  2.81091830e+95\n",
      "   7.87742552e+95]\n",
      " [-2.36899618e+96 -3.57137721e+96 -6.05386182e+95 -3.18733566e+95\n",
      "   2.20360327e+96  2.56877123e+96  5.96220571e+96 -6.02374768e+95\n",
      "   4.13359707e+95  5.79776975e+96 -1.62316672e+96  1.74499465e+96\n",
      "  -1.87575009e+96 -1.66723623e+96 -4.19759224e+95  1.12666826e+96\n",
      "   1.12046173e+96 -4.16113562e+95 -2.34105351e+96  5.76036517e+95\n",
      "  -4.32489238e+96 -5.37173151e+95 -7.66356006e+94  3.28352177e+95\n",
      "   9.19512046e+95]\n",
      " [-5.50695114e+96 -8.30586076e+96 -1.40396100e+96 -7.38671835e+95\n",
      "   5.12389714e+96  5.96220571e+96  1.38606328e+97 -1.40225121e+96\n",
      "   9.59233926e+95  1.34757179e+97 -3.77152498e+96  4.05771520e+96\n",
      "  -4.36161389e+96 -3.87669505e+96 -9.71450649e+95  2.61399557e+96\n",
      "   2.59937961e+96 -9.68520755e+95 -5.43653637e+96  1.33958148e+96\n",
      "  -1.00518673e+97 -1.24079812e+96 -1.75262967e+95  7.61076386e+95\n",
      "   2.13885366e+96]\n",
      " [ 5.56505936e+95  8.42264733e+95  1.40097624e+95  7.30265511e+94\n",
      "  -5.18181279e+95 -6.02374768e+95 -1.40225121e+96  1.46862125e+95\n",
      "  -9.61482337e+94 -1.36546482e+96  3.83751885e+95 -4.09833815e+95\n",
      "   4.42167044e+95  3.93669270e+95  9.73064165e+94 -2.63232484e+95\n",
      "  -2.61968508e+95  9.49822761e+94  5.47755925e+95 -1.36770882e+95\n",
      "   1.01862060e+96  1.24009257e+95  1.78160539e+94 -7.69947548e+94\n",
      "  -2.20177355e+95]\n",
      " [-3.82070029e+95 -5.74222763e+95 -9.81748804e+94 -5.19362070e+94\n",
      "   3.52662809e+95  4.13359707e+95  9.59233926e+95 -9.61482337e+94\n",
      "   6.96344917e+94  9.36325182e+95 -2.62509625e+95  2.80864668e+95\n",
      "  -3.00281027e+95 -2.70041549e+95 -6.85582152e+94  1.78321131e+95\n",
      "   1.80928039e+95 -6.48320641e+94 -3.75837012e+95  9.12374774e+94\n",
      "  -6.95509182e+95 -8.62722678e+94 -1.35268798e+94  5.20035093e+94\n",
      "   1.48651533e+95]\n",
      " [-5.35550547e+96 -8.07654383e+96 -1.36586070e+96 -7.18343220e+95\n",
      "   4.97753565e+96  5.79776975e+96  1.34757179e+97 -1.36546482e+96\n",
      "   9.36325182e+95  1.31143223e+97 -3.67205086e+96  3.94544911e+96\n",
      "  -4.23699391e+96 -3.77732453e+96 -9.46905416e+95  2.53360632e+96\n",
      "   2.52776567e+96 -9.34173064e+95 -5.28058717e+96  1.29899888e+96\n",
      "  -9.77272504e+96 -1.20339271e+96 -1.73143840e+95  7.39381272e+95\n",
      "   2.08258457e+96]\n",
      " [ 1.49829376e+96  2.26034329e+96  3.79552354e+95  2.00610517e+95\n",
      "  -1.39306724e+96 -1.62316672e+96 -3.77152498e+96  3.83751885e+95\n",
      "  -2.62509625e+95 -3.67205086e+96  1.03361014e+96 -1.10401978e+96\n",
      "   1.18382626e+96  1.05884785e+96  2.66396770e+95 -7.08444645e+95\n",
      "  -7.05810588e+95  2.60866895e+95  1.47891033e+96 -3.64363760e+95\n",
      "   2.73542029e+96  3.36018409e+95  4.69179118e+94 -2.05925727e+95\n",
      "  -5.85062505e+95]\n",
      " [-1.61176699e+96 -2.43160828e+96 -4.10949870e+95 -2.18400931e+95\n",
      "   1.50054559e+96  1.74499465e+96  4.05771520e+96 -4.09833815e+95\n",
      "   2.80864668e+95  3.94544911e+96 -1.10401978e+96  1.19074119e+96\n",
      "  -1.27740554e+96 -1.13387221e+96 -2.83955391e+95  7.63869018e+95\n",
      "   7.60174718e+95 -2.84647832e+95 -1.59168968e+96  3.91675735e+95\n",
      "  -2.94191110e+96 -3.61433068e+95 -5.11361911e+94  2.20704557e+95\n",
      "   6.25813808e+95]\n",
      " [ 1.73225255e+96  2.61440020e+96  4.42039654e+95  2.32342773e+95\n",
      "  -1.61415227e+96 -1.87575009e+96 -4.36161389e+96  4.42167044e+95\n",
      "  -3.00281027e+95 -4.23699391e+96  1.18382626e+96 -1.27740554e+96\n",
      "   1.37656189e+96  1.21620210e+96  3.03350950e+95 -8.25095112e+95\n",
      "  -8.18215039e+95  3.06125922e+95  1.71147882e+96 -4.23059166e+95\n",
      "   3.16398041e+96  3.90968073e+95  5.53596469e+94 -2.39388194e+95\n",
      "  -6.73022398e+95]\n",
      " [ 1.54159730e+96  2.32211712e+96  3.92767708e+95  2.03108995e+95\n",
      "  -1.42927771e+96 -1.66723623e+96 -3.87669505e+96  3.93669270e+95\n",
      "  -2.70041549e+95 -3.77732453e+96  1.05884785e+96 -1.13387221e+96\n",
      "   1.21620210e+96  1.09458670e+96  2.75889646e+95 -7.26002522e+95\n",
      "  -7.24598497e+95  2.63952103e+95  1.51507581e+96 -3.71443625e+95\n",
      "   2.80908667e+96  3.44723419e+95  4.93165241e+94 -2.14264460e+95\n",
      "  -5.98868959e+95]\n",
      " [ 3.86518043e+95  5.78620430e+95  9.88910370e+94  4.99338622e+94\n",
      "  -3.56935914e+95 -4.19759224e+95 -9.71450649e+95  9.73064165e+94\n",
      "  -6.85582152e+94 -9.46905416e+95  2.66396770e+95 -2.83955391e+95\n",
      "   3.03350950e+95  2.75889646e+95  7.38470855e+94 -1.83198880e+95\n",
      "  -1.80664877e+95  6.48794879e+94  3.80851595e+95 -9.25830388e+94\n",
      "   7.02495718e+95  8.90345709e+94  1.19213708e+94 -5.43834646e+94\n",
      "  -1.48245092e+95]\n",
      " [-1.03851399e+96 -1.56446934e+96 -2.64190017e+95 -1.38252449e+95\n",
      "   9.70109445e+95  1.12666826e+96  2.61399557e+96 -2.63232484e+95\n",
      "   1.78321131e+95  2.53360632e+96 -7.08444645e+95  7.63869018e+95\n",
      "  -8.25095112e+95 -7.26002522e+95 -1.83198880e+95  5.03534133e+95\n",
      "   4.91306361e+95 -1.88515645e+95 -1.03056884e+96  2.54574947e+95\n",
      "  -1.89671883e+96 -2.39559015e+95 -3.08459546e+94  1.46026549e+95\n",
      "   3.98655190e+95]\n",
      " [-1.03318594e+96 -1.55871781e+96 -2.65942854e+95 -1.41493347e+95\n",
      "   9.60132651e+95  1.12046173e+96  2.59937961e+96 -2.61968508e+95\n",
      "   1.80928039e+95  2.52776567e+96 -7.05810588e+95  7.60174718e+95\n",
      "  -8.18215039e+95 -7.24598497e+95 -1.80664877e+95  4.91306361e+95\n",
      "   4.93455295e+95 -1.81544956e+95 -1.02097468e+96  2.50906429e+95\n",
      "  -1.88813846e+96 -2.35510963e+95 -3.56352360e+94  1.43272953e+95\n",
      "   4.02770602e+95]\n",
      " [ 3.84136131e+95  5.80478295e+95  9.62952834e+94  5.34384453e+94\n",
      "  -3.63289134e+95 -4.16113562e+95 -9.68520755e+95  9.49822761e+94\n",
      "  -6.48320641e+94 -9.34173064e+95  2.60866895e+95 -2.84647832e+95\n",
      "   3.06125922e+95  2.63952103e+95  6.48794879e+94 -1.88515645e+95\n",
      "  -1.81544956e+95  7.81124055e+94  3.85188292e+95 -9.53781591e+94\n",
      "   7.02128451e+95  8.69369491e+94  9.26093837e+93 -5.27277257e+94\n",
      "  -1.44088462e+95]\n",
      " [ 2.15896487e+96  3.25585364e+96  5.50215187e+95  2.91933196e+95\n",
      "  -2.01245774e+96 -2.34105351e+96 -5.43653637e+96  5.47755925e+95\n",
      "  -3.75837012e+95 -5.28058717e+96  1.47891033e+96 -1.59168968e+96\n",
      "   1.71147882e+96  1.51507581e+96  3.80851595e+95 -1.03056884e+96\n",
      "  -1.02097468e+96  3.85188292e+95  2.13972703e+96 -5.27547030e+95\n",
      "   3.94355611e+96  4.89901818e+95  6.76881886e+94 -2.98059398e+95\n",
      "  -8.37026029e+95]\n",
      " [-5.31253148e+95 -8.03621022e+95 -1.34673858e+95 -7.08999975e+94\n",
      "   4.97014091e+95  5.76036517e+95  1.33958148e+96 -1.36770882e+95\n",
      "   9.12374774e+94  1.29899888e+96 -3.64363760e+95  3.91675735e+95\n",
      "  -4.23059166e+95 -3.71443625e+95 -9.25830388e+94  2.54574947e+95\n",
      "   2.50906429e+95 -9.53781591e+94 -5.27547030e+95  1.32868446e+95\n",
      "  -9.72927167e+95 -1.20332439e+95 -1.65666869e+94  7.32709579e+94\n",
      "   2.07893147e+95]\n",
      " [ 3.99371498e+96  6.02497461e+96  1.01850705e+96  5.36874118e+95\n",
      "  -3.71606201e+96 -4.32489238e+96 -1.00518673e+97  1.01862060e+96\n",
      "  -6.95509182e+95 -9.77272504e+96  2.73542029e+96 -2.94191110e+96\n",
      "   3.16398041e+96  2.80908667e+96  7.02495718e+95 -1.89671883e+96\n",
      "  -1.88813846e+96  7.02128451e+95  3.94355611e+96 -9.72927167e+95\n",
      "   7.29439403e+96  9.00799205e+95  1.28130517e+95 -5.51918135e+95\n",
      "  -1.55514582e+96]\n",
      " [ 4.93413144e+95  7.40936689e+95  1.26762941e+95  6.57232328e+94\n",
      "  -4.58408829e+95 -5.37173151e+95 -1.24079812e+96  1.24009257e+95\n",
      "  -8.62722678e+94 -1.20339271e+96  3.36018409e+95 -3.61433068e+95\n",
      "   3.90968073e+95  3.44723419e+95  8.90345709e+94 -2.39559015e+95\n",
      "  -2.35510963e+95  8.69369491e+94  4.89901818e+95 -1.20332439e+95\n",
      "   9.00799205e+95  1.18476485e+95  1.64554514e+94 -7.00550870e+94\n",
      "  -1.89540275e+95]\n",
      " [ 6.98444992e+94  1.06077010e+95  2.01771484e+94  1.01775014e+94\n",
      "  -6.35382105e+94 -7.66356006e+94 -1.75262967e+95  1.78160539e+94\n",
      "  -1.35268798e+94 -1.73143840e+95  4.69179118e+94 -5.11361911e+94\n",
      "   5.53596469e+94  4.93165241e+94  1.19213708e+94 -3.08459546e+94\n",
      "  -3.56352360e+94  9.26093837e+93  6.76881886e+94 -1.65666869e+94\n",
      "   1.28130517e+95  1.64554514e+94  6.19513022e+93 -9.91850231e+93\n",
      "  -2.87199985e+94]\n",
      " [-3.03110404e+95 -4.55738134e+95 -7.79358071e+94 -3.80500413e+94\n",
      "   2.81091830e+95  3.28352177e+95  7.61076386e+95 -7.69947548e+94\n",
      "   5.20035093e+94  7.39381272e+95 -2.05925727e+95  2.20704557e+95\n",
      "  -2.39388194e+95 -2.14264460e+95 -5.43834646e+94  1.46026549e+95\n",
      "   1.43272953e+95 -5.27277257e+94 -2.98059398e+95  7.32709579e+94\n",
      "  -5.51918135e+95 -7.00550870e+94 -9.91850231e+93  4.56501078e+94\n",
      "   1.15281685e+95]\n",
      " [-8.49040544e+95 -1.28356107e+96 -2.16839447e+95 -1.15866344e+95\n",
      "   7.87742552e+95  9.19512046e+95  2.13885366e+96 -2.20177355e+95\n",
      "   1.48651533e+95  2.08258457e+96 -5.85062505e+95  6.25813808e+95\n",
      "  -6.73022398e+95 -5.98868959e+95 -1.48245092e+95  3.98655190e+95\n",
      "   4.02770602e+95 -1.44088462e+95 -8.37026029e+95  2.07893147e+95\n",
      "  -1.55514582e+96 -1.89540275e+95 -2.87199985e+94  1.15281685e+95\n",
      "   3.40035651e+95]]\n"
     ]
    }
   ],
   "metadata": {}
  },
  {
   "cell_type": "markdown",
   "source": [
    "**d)** Calcule o traço de A;"
   ],
   "metadata": {}
  },
  {
   "cell_type": "code",
   "execution_count": 303,
   "source": [
    "def traco(matriz_A):\r\n",
    "    linhas, colunas = np.shape(matriz_A)\r\n",
    "    n, traco = min((linhas, colunas)), 0\r\n",
    "\r\n",
    "    for i in range(n):\r\n",
    "        traco += matriz_A[i,i]\r\n",
    "    return traco\r\n"
   ],
   "outputs": [],
   "metadata": {}
  },
  {
   "cell_type": "code",
   "execution_count": 304,
   "source": [
    "print(\"Traço de A:\", traco(matriz))"
   ],
   "outputs": [
    {
     "output_type": "stream",
     "name": "stdout",
     "text": [
      "Traço de A: 2024668.0\n"
     ]
    }
   ],
   "metadata": {}
  },
  {
   "cell_type": "markdown",
   "source": [
    "**e)** Avalie se A é simétrica;"
   ],
   "metadata": {}
  },
  {
   "cell_type": "code",
   "execution_count": 305,
   "source": [
    "def verifica_simetria(matriz_A):\r\n",
    "    if verifica_quadrada(matriz_A):\r\n",
    "        n = len(matriz_A)\r\n",
    "        for i in range(n):\r\n",
    "            for j in range(n):\r\n",
    "                if (i != j) and (matriz_A[i,j] != matriz_A[j,i]):\r\n",
    "                    print(\"A matriz não é simétrica\")\r\n",
    "                    return False\r\n",
    "        print(\"A matriz é simétrica\")\r\n",
    "        return True\r\n",
    "    print(\"A matriz não é quadrada\")\r\n",
    "    return False"
   ],
   "outputs": [],
   "metadata": {}
  },
  {
   "cell_type": "code",
   "execution_count": 306,
   "source": [
    "verifica_simetria(matriz)"
   ],
   "outputs": [
    {
     "output_type": "stream",
     "name": "stdout",
     "text": [
      "A matriz é simétrica\n"
     ]
    },
    {
     "output_type": "execute_result",
     "data": {
      "text/plain": [
       "True"
      ]
     },
     "metadata": {},
     "execution_count": 306
    }
   ],
   "metadata": {}
  },
  {
   "cell_type": "markdown",
   "source": [
    "**f)** Avalie se A é ortogonal;"
   ],
   "metadata": {}
  },
  {
   "cell_type": "code",
   "execution_count": 307,
   "source": [
    "def verifica_ortogonal(matriz_A):\r\n",
    "    if not verifica_quadrada:\r\n",
    "        print(\"A matriz não é quadrada.\")\r\n",
    "        return False\r\n",
    "    \r\n",
    "    if not verifica_inversa:\r\n",
    "        print(\"A matriz é singular.\")\r\n",
    "        return False\r\n",
    "    \r\n",
    "    n = len(matriz_A)\r\n",
    "    matriz_At = calcula_transposta(matriz_A)\r\n",
    "    matriz_Id = np.identity(n)\r\n",
    "\r\n",
    "    matriz_Resultado = np.matmul(matriz_A, matriz_At)\r\n",
    "\r\n",
    "    if (matriz_Resultado-matriz_Id).all() <= 1e-10:\r\n",
    "        print(\"A matriz é ortogonal.\")\r\n",
    "        return True\r\n",
    "    else:\r\n",
    "        print(\"A matriz não é ortogonal.\")\r\n",
    "        return False"
   ],
   "outputs": [],
   "metadata": {}
  },
  {
   "cell_type": "code",
   "execution_count": 308,
   "source": [
    "verifica_ortogonal(matriz)"
   ],
   "outputs": [
    {
     "output_type": "stream",
     "name": "stdout",
     "text": [
      "A matriz não é ortogonal.\n"
     ]
    },
    {
     "output_type": "execute_result",
     "data": {
      "text/plain": [
       "False"
      ]
     },
     "metadata": {},
     "execution_count": 308
    }
   ],
   "metadata": {}
  },
  {
   "cell_type": "markdown",
   "source": [
    "**g)** Calcule a norma de linha, norma de Frobenius e norma coluna de A."
   ],
   "metadata": {}
  },
  {
   "cell_type": "code",
   "execution_count": 309,
   "source": [
    "def soma_linha(matriz_A): # norma-infinita matricial\r\n",
    "    n, max, x = len(matriz_A), 0, 0\r\n",
    "\r\n",
    "    for i in range(n):\r\n",
    "        for j in range(n):\r\n",
    "            x += math.fabs(matriz_A[i,j])\r\n",
    "        \r\n",
    "        if x > max:\r\n",
    "            max = x\r\n",
    "\r\n",
    "    return max"
   ],
   "outputs": [],
   "metadata": {}
  },
  {
   "cell_type": "code",
   "execution_count": 310,
   "source": [
    "soma_linha(matriz)"
   ],
   "outputs": [
    {
     "output_type": "execute_result",
     "data": {
      "text/plain": [
       "37848742.0"
      ],
      "text/latex": [
       "$\\displaystyle 37848742.0$"
      ]
     },
     "metadata": {},
     "execution_count": 310
    }
   ],
   "metadata": {}
  },
  {
   "cell_type": "code",
   "execution_count": 311,
   "source": [
    "def frobenius(matriz_A): # norma-2 matricial\r\n",
    "    n, x = len(matriz_A), 0\r\n",
    "\r\n",
    "    for i in range(n):\r\n",
    "        for j in range(n):\r\n",
    "            x += math.pow(math.fabs(matriz_A[i,j]), 2)\r\n",
    "\r\n",
    "    return x ** (1/2)"
   ],
   "outputs": [],
   "metadata": {}
  },
  {
   "cell_type": "code",
   "execution_count": 312,
   "source": [
    "frobenius(matriz)"
   ],
   "outputs": [
    {
     "output_type": "execute_result",
     "data": {
      "text/plain": [
       "1544623.5421512907"
      ],
      "text/latex": [
       "$\\displaystyle 1544623.54215129$"
      ]
     },
     "metadata": {},
     "execution_count": 312
    }
   ],
   "metadata": {}
  },
  {
   "cell_type": "code",
   "execution_count": 313,
   "source": [
    "def soma_coluna(matriz_A): # norma-1 matricial\r\n",
    "    n, max, x = len(matriz_A), 0, 0\r\n",
    "\r\n",
    "    for j in range(n):\r\n",
    "        for i in range(n):\r\n",
    "            x += math.fabs(matriz_A[i,j])\r\n",
    "        \r\n",
    "        if x > max:\r\n",
    "            max = x\r\n",
    "    \r\n",
    "    return max"
   ],
   "outputs": [],
   "metadata": {}
  },
  {
   "cell_type": "code",
   "execution_count": 314,
   "source": [
    "soma_coluna(matriz)"
   ],
   "outputs": [
    {
     "output_type": "execute_result",
     "data": {
      "text/plain": [
       "37848742.0"
      ],
      "text/latex": [
       "$\\displaystyle 37848742.0$"
      ]
     },
     "metadata": {},
     "execution_count": 314
    }
   ],
   "metadata": {}
  },
  {
   "cell_type": "markdown",
   "source": [
    "**h)** Avalie se A é positiva definida."
   ],
   "metadata": {}
  },
  {
   "cell_type": "code",
   "execution_count": 319,
   "source": [
    "def verifica_pos_def(matriz_A):\r\n",
    "    if verifica_inversa(matriz_A) and verifica_simetria(matriz_A):\r\n",
    "        n = len(matriz_A)\r\n",
    "        for i in range(n):\r\n",
    "            soma = 0\r\n",
    "            for j in range(n):\r\n",
    "                soma += matriz_A[i,j]\r\n",
    "            if(soma == 0 or matriz_A[i,i] <= 0):\r\n",
    "                print(\"A matriz não é positiva definida.\")\r\n",
    "                return False\r\n",
    "        print(\"A matriz é positiva definida.\")\r\n",
    "        return True\r\n",
    "    print(\"A matriz não é positiva definida.\")\r\n",
    "    return False"
   ],
   "outputs": [],
   "metadata": {}
  },
  {
   "cell_type": "code",
   "execution_count": 320,
   "source": [
    "verifica_pos_def(matriz)"
   ],
   "outputs": [
    {
     "output_type": "stream",
     "name": "stdout",
     "text": [
      "A matriz é quadrada\n",
      "O determinante da matriz é: 1.8092256407074624e+97\n",
      "A matriz é simétrica\n",
      "A matriz é positiva definida.\n"
     ]
    },
    {
     "output_type": "execute_result",
     "data": {
      "text/plain": [
       "True"
      ]
     },
     "metadata": {},
     "execution_count": 320
    }
   ],
   "metadata": {}
  },
  {
   "cell_type": "markdown",
   "source": [
    "---\n",
    "### 6) Construa um algoritmo que receba dois vetores x e y e uma matriz A positiva definida (de uma planilha excel). Calcule:"
   ],
   "metadata": {}
  },
  {
   "cell_type": "code",
   "execution_count": 321,
   "source": [
    "def ler_matriz_A_vetor_x_vetor_y(file_name, file_matrix, file_array_x, file_array_y):\r\n",
    "    df_matriz = pd.read_excel(r\"dados/\"+file_name+\".xlsx\", header=None, sheet_name=file_matrix) # Le o arquivo do excel que contém a matriz A sem cabeçalho\r\n",
    "    df_vetor_x = pd.read_excel(r\"dados/\"+file_name+\".xlsx\", header=None, sheet_name=file_array_x) # Le o arquivo do excel que contém o vetor x sem cabeçalho\r\n",
    "    df_vetor_y = pd.read_excel(r\"dados/\"+file_name+\".xlsx\", header=None, sheet_name=file_array_y) # Le o arquivo do excel que contém o vetor y sem cabeçalho\r\n",
    "    matriz = np.array(df_matriz, dtype='f8') # Converte a matriz A em um array da numpy\r\n",
    "    vetor_x = np.ravel(np.array(df_vetor_x, dtype='f8')) # Converte o vetor b em um array da numpy\r\n",
    "    vetor_y = np.ravel(np.array(df_vetor_y, dtype='f8')) # Converte o vetor b em um array da numpy\r\n",
    "    return matriz, vetor_x, vetor_y\r\n"
   ],
   "outputs": [],
   "metadata": {}
  },
  {
   "cell_type": "code",
   "execution_count": 323,
   "source": [
    "matriz, vetor_x, vetor_y = ler_matriz_A_vetor_x_vetor_y(\"prova_ALC_testes(1)\", \"matriz_A(2)\", \"vetor_b(1)\", \"vetor_b(1)\")"
   ],
   "outputs": [],
   "metadata": {}
  },
  {
   "cell_type": "markdown",
   "source": [
    "**a)** Norma 1, norma 2 e norma infinito de x e y."
   ],
   "metadata": {}
  },
  {
   "cell_type": "code",
   "execution_count": 324,
   "source": [
    "def manhattan(vetor): # norma-1 vetorial\r\n",
    "    n, x = len(vetor), 0\r\n",
    "\r\n",
    "    for i in range(n):\r\n",
    "        x += np.fabs(vetor[i])\r\n",
    "    return x"
   ],
   "outputs": [],
   "metadata": {}
  },
  {
   "cell_type": "code",
   "execution_count": 325,
   "source": [
    "print(manhattan(vetor_x))\r\n",
    "print(manhattan(vetor_y))"
   ],
   "outputs": [
    {
     "output_type": "stream",
     "name": "stdout",
     "text": [
      "26072.0\n",
      "26072.0\n"
     ]
    }
   ],
   "metadata": {}
  },
  {
   "cell_type": "code",
   "execution_count": 326,
   "source": [
    "def euclidiana(vetor): # norma-2 vetorial\r\n",
    "    n, x = len(vetor), 0\r\n",
    "\r\n",
    "    for i in range(n):\r\n",
    "        x += np.fabs(vetor[i]) ** 2\r\n",
    "\r\n",
    "    return x ** (1/2)"
   ],
   "outputs": [],
   "metadata": {}
  },
  {
   "cell_type": "code",
   "execution_count": 327,
   "source": [
    "print(euclidiana(vetor_x))\r\n",
    "print(euclidiana(vetor_y))"
   ],
   "outputs": [
    {
     "output_type": "stream",
     "name": "stdout",
     "text": [
      "5264.014627639251\n",
      "5264.014627639251\n"
     ]
    }
   ],
   "metadata": {}
  },
  {
   "cell_type": "code",
   "execution_count": 328,
   "source": [
    "def infinita(vetor): # norma-infinita vetorial\r\n",
    "    n, max = len(vetor), vetor[0]\r\n",
    "    \r\n",
    "    for i in range(1, n):\r\n",
    "        if np.fabs(vetor[i]) > max:\r\n",
    "            max = np.fabs(vetor[i])\r\n",
    "\r\n",
    "    return max"
   ],
   "outputs": [],
   "metadata": {}
  },
  {
   "cell_type": "code",
   "execution_count": 329,
   "source": [
    "print(infinita(vetor_x))\r\n",
    "print(infinita(vetor_y))"
   ],
   "outputs": [
    {
     "output_type": "stream",
     "name": "stdout",
     "text": [
      "1291.0\n",
      "1291.0\n"
     ]
    }
   ],
   "metadata": {}
  },
  {
   "cell_type": "markdown",
   "source": [
    "**b)** Ângulo entre x e y;"
   ],
   "metadata": {}
  },
  {
   "cell_type": "code",
   "execution_count": 330,
   "source": [
    "def produto_interno(vetor_x, vetor_y):\r\n",
    "    n, p_interno = len(vetor_x), 0\r\n",
    "\r\n",
    "    for i in range(n):\r\n",
    "        p_interno += vetor_x[i] * vetor_y[i]\r\n",
    "    \r\n",
    "    return p_interno\r\n",
    "\r\n",
    "def angulo_vetores(vetor_x, vetor_y):\r\n",
    "    n = len(vetor_x)\r\n",
    "\r\n",
    "    p_interno = produto_interno(vetor_x, vetor_y)\r\n",
    "    norma_x = euclidiana(vetor_x)\r\n",
    "    norma_y = euclidiana(vetor_y)\r\n",
    "    p_normas = norma_x * norma_y\r\n",
    "\r\n",
    "    div = p_interno/p_normas\r\n",
    "\r\n",
    "    return np.arccos(div)"
   ],
   "outputs": [],
   "metadata": {}
  },
  {
   "cell_type": "code",
   "execution_count": 331,
   "source": [
    "angulo_vetores(vetor_x, vetor_y)"
   ],
   "outputs": [
    {
     "output_type": "execute_result",
     "data": {
      "text/plain": [
       "0.0"
      ],
      "text/latex": [
       "$\\displaystyle 0.0$"
      ]
     },
     "metadata": {},
     "execution_count": 331
    }
   ],
   "metadata": {}
  },
  {
   "cell_type": "markdown",
   "source": [
    "**c)** Norma de x e y induzida por A;"
   ],
   "metadata": {}
  },
  {
   "cell_type": "code",
   "execution_count": null,
   "source": [],
   "outputs": [],
   "metadata": {}
  },
  {
   "cell_type": "markdown",
   "source": [
    "**d)** Produto interno de x e y."
   ],
   "metadata": {}
  },
  {
   "cell_type": "code",
   "execution_count": 332,
   "source": [
    "def produto_interno(vetor_x, vetor_y):\r\n",
    "    n, p_interno = len(vetor_x), 0\r\n",
    "\r\n",
    "    for i in range(n):\r\n",
    "        p_interno += vetor_x[i] * vetor_y[i]\r\n",
    "    \r\n",
    "    return p_interno"
   ],
   "outputs": [],
   "metadata": {}
  },
  {
   "cell_type": "code",
   "execution_count": 333,
   "source": [
    "produto_interno(vetor_x, vetor_y)"
   ],
   "outputs": [
    {
     "output_type": "execute_result",
     "data": {
      "text/plain": [
       "27709850.0"
      ],
      "text/latex": [
       "$\\displaystyle 27709850.0$"
      ]
     },
     "metadata": {},
     "execution_count": 333
    }
   ],
   "metadata": {}
  },
  {
   "cell_type": "markdown",
   "source": [
    "---\n",
    "### 7) Implemente um algoritmo que leia uma matriz A e um vetor b (de uma planilha excel). Encontre a fatoração LU de A."
   ],
   "metadata": {}
  },
  {
   "cell_type": "code",
   "execution_count": 335,
   "source": [
    "matriz, vetor = ler_matriz_A_vetor_b(\"prova_ALC_testes\")"
   ],
   "outputs": [],
   "metadata": {}
  },
  {
   "cell_type": "code",
   "execution_count": 336,
   "source": [
    "fatoracaoLU(matriz,vetor)"
   ],
   "outputs": [
    {
     "output_type": "execute_result",
     "data": {
      "text/plain": [
       "array([ 218.15690039, -134.91978861, -228.57366314,  196.17807308,\n",
       "        -23.10822144,  120.75613378,   76.57658357,   32.56339464,\n",
       "        112.28655838, -311.76230605,    9.73618607,  179.86106078,\n",
       "         37.55533057,   -5.28610392,   20.3176418 ,  120.6584339 ,\n",
       "        184.2906244 ,   34.16170845, -178.63243142,  -42.98537213,\n",
       "       -108.87178633,  -70.23227857,  168.6609164 , -259.13412099,\n",
       "       -164.019284  ])"
      ]
     },
     "metadata": {},
     "execution_count": 336
    }
   ],
   "metadata": {}
  },
  {
   "cell_type": "markdown",
   "source": [
    "---\n",
    "### 8) Construa um algoritmo que receba uma matriz A positiva (de uma planilha excel). Calcule:"
   ],
   "metadata": {}
  },
  {
   "cell_type": "code",
   "execution_count": 337,
   "source": [
    "matriz = ler_matriz_A(\"prova_ALC_testes\")"
   ],
   "outputs": [
    {
     "output_type": "error",
     "ename": "TypeError",
     "evalue": "ler_matriz_A() takes 1 positional argument but 2 were given",
     "traceback": [
      "\u001b[1;31m---------------------------------------------------------------------------\u001b[0m",
      "\u001b[1;31mTypeError\u001b[0m                                 Traceback (most recent call last)",
      "\u001b[1;32m<ipython-input-337-685a195c4a2b>\u001b[0m in \u001b[0;36m<module>\u001b[1;34m\u001b[0m\n\u001b[1;32m----> 1\u001b[1;33m \u001b[0mmatriz\u001b[0m \u001b[1;33m=\u001b[0m \u001b[0mler_matriz_A\u001b[0m\u001b[1;33m(\u001b[0m\u001b[1;34m\"prova_ALC_testes\"\u001b[0m\u001b[1;33m,\u001b[0m \u001b[1;34m\"matriz_A(2)\"\u001b[0m\u001b[1;33m)\u001b[0m\u001b[1;33m\u001b[0m\u001b[1;33m\u001b[0m\u001b[0m\n\u001b[0m",
      "\u001b[1;31mTypeError\u001b[0m: ler_matriz_A() takes 1 positional argument but 2 were given"
     ]
    }
   ],
   "metadata": {}
  },
  {
   "cell_type": "markdown",
   "source": [
    "**a)** O número condição;"
   ],
   "metadata": {}
  },
  {
   "cell_type": "code",
   "execution_count": null,
   "source": [],
   "outputs": [],
   "metadata": {}
  },
  {
   "cell_type": "markdown",
   "source": [
    "**b)** Retorne uma mensagem ao usuário sobre sua interpretação."
   ],
   "metadata": {}
  },
  {
   "cell_type": "code",
   "execution_count": null,
   "source": [],
   "outputs": [],
   "metadata": {}
  },
  {
   "cell_type": "markdown",
   "source": [
    "---\n",
    "### 9) Construa um algoritmo que receba três matrizes: U, sigma e V (de uma planilha excel) e:"
   ],
   "metadata": {}
  },
  {
   "cell_type": "code",
   "execution_count": null,
   "source": [
    "def ler_matrizes_USV(file_excel):\r\n",
    "    df = pd.read_excel(r\"dados/\"+file_excel+\".xlsx\", header=None, sheet_name=\"SVD\")\r\n",
    "    data = np.array(df)\r\n",
    "\r\n",
    "    n, m = np.shape(data)\r\n",
    "    nan_find = ~np.isnan(data).all(axis=0)\r\n",
    "    nan_index = []\r\n",
    "\r\n",
    "    for i in range(len(nan_find)):\r\n",
    "        if nan_find[i] == False:\r\n",
    "            nan_index.append(i)\r\n",
    "\r\n",
    "    data_U = data[:,:nan_index[0]]\r\n",
    "    data_S = data[:,nan_index[0]+1:nan_index[1]]\r\n",
    "    data_Vt = data[:,nan_index[1]+1:m]\r\n",
    "\r\n",
    "    matriz_U = data_U[~np.isnan(data_U).all(axis=1)]\r\n",
    "    matriz_S = data_S[~np.isnan(data_S).all(axis=1)]\r\n",
    "    matriz_Vt = data_Vt[~np.isnan(data_Vt).all(axis=1)]\r\n",
    "\r\n",
    "    return matriz_U, matriz_S, matriz_Vt"
   ],
   "outputs": [],
   "metadata": {}
  },
  {
   "cell_type": "code",
   "execution_count": null,
   "source": [
    "matriz_U, matriz_S, matriz_Vt = ler_matrizes_USV(\"prova_ALC_testes\")"
   ],
   "outputs": [],
   "metadata": {}
  },
  {
   "cell_type": "markdown",
   "source": [
    "**a)** Avalie se o produto das três matrizes representa uma decomposição SVD de alguma matriz X;\r\n",
    "\r\n",
    "**b)** Caso a resposta à pergunta anterior seja negativa, retorne ao usuário uma explicação justificando esse fato."
   ],
   "metadata": {}
  },
  {
   "cell_type": "code",
   "execution_count": null,
   "source": [
    "# U e V ortogonais e S não-quadrada e diagonal\r\n",
    "def verifica_diagonal(matriz):\r\n",
    "    n, m = np.shape(matriz)\r\n",
    "\r\n",
    "    for i in range(n):\r\n",
    "        for j in range(m):\r\n",
    "            if i != j and matriz[i,j] != 0:\r\n",
    "                print(\"A matriz não é diagonal.\")\r\n",
    "                return False\r\n",
    "    print(\"A matriz é diagonal.\")\r\n",
    "    return True\r\n",
    "\r\n",
    "def verifica_SVD(matriz_U, matriz_S, matriz_Vt):\r\n",
    "    print(\"Para as matrizes USVt serem a decomposição SVD de uma matriz X:\\n-> U e Vt devem ser ortogonais.\\n-> S deve ser diagonal não-quadrada.\\n\")\r\n",
    "    print(\"Verificando se U é ortogonal...\")\r\n",
    "    if verifica_ortogonal(matriz_U):\r\n",
    "        print(\"\\nVerificando se Vt é ortogonal...\")\r\n",
    "        if verifica_ortogonal(matriz_Vt):\r\n",
    "            print(\"\\nVerificando se S é diagonal e não-quadrada...\")\r\n",
    "            if verifica_diagonal(matriz_S):\r\n",
    "                nS, mS = np.shape(matriz_S)\r\n",
    "                if nS != mS:\r\n",
    "                    print(\"A matriz é não-quadrada.\")\r\n",
    "                    print(\"\")\r\n",
    "                    mU = len(matriz_U)\r\n",
    "                    nVt = len(matriz_Vt)\r\n",
    "\r\n",
    "                    if mU == nS and mS == nVt:\r\n",
    "                        print(\"As matrizes são a decomposição SVD da matriz X abaixo:\")\r\n",
    "                        matriz_X = np.matmul(np.matmul(matriz_U, matriz_S), matriz_Vt)\r\n",
    "                        print(matriz_X)\r\n",
    "\r\n",
    "                        return True\r\n",
    "                    else:\r\n",
    "                        print(\"As matrizes não têm dimensões compatíveis para executar um produto de matrizes.\")\r\n",
    "                        return False\r\n",
    "                else:\r\n",
    "                    print(\"A matriz S é quadrada.\")\r\n",
    "                    return False\r\n",
    "            else:\r\n",
    "                print(\"A matriz S não é diagonal.\")\r\n",
    "                return False\r\n",
    "        else:\r\n",
    "            print(\"A matriz Vt não é ortogonal.\")\r\n",
    "            return False\r\n",
    "    else:\r\n",
    "        print(\"A matriz U não é ortogonal.\")\r\n",
    "        return False"
   ],
   "outputs": [],
   "metadata": {}
  },
  {
   "cell_type": "code",
   "execution_count": null,
   "source": [
    "verifica_SVD(matriz_U, matriz_S, matriz_Vt)"
   ],
   "outputs": [],
   "metadata": {}
  },
  {
   "cell_type": "markdown",
   "source": [
    "---\n",
    "### 10) Construa um algoritmo que leia uma planilha em Excel com 4 colunas e calcule a estatística de Benford (para 1 dígito) para cada uma das colunas."
   ],
   "metadata": {}
  },
  {
   "cell_type": "code",
   "execution_count": null,
   "source": [
    "def ler_dados_benford(file_name): # Le o arquivo do excel que contém os dados para testar o algoritmo de ocorrências (Benford)\r\n",
    "    df_benford = pd.read_excel(r\"dados/\"+file_name+\".xlsx\", header=None)\r\n",
    "    dataset_benford = np.array(df_benford) # Converte a matriz de dados em um array numpy\r\n",
    "    return dataset_benford\r\n",
    "\r\n",
    "def benford(dados):\r\n",
    "    n, m = np.shape(dados)\r\n",
    "    primeiro_digito = np.zeros((n,m)) # Matriz auxiliar para armazenar o primeiro dígito de cada posição da matriz de dados\r\n",
    "\r\n",
    "    # Looping para armazenar os primeiros dígitos dos elementos da matriz de dados na matriz primeiro_digito\r\n",
    "    for j in range(m):\r\n",
    "        for i in range(n):\r\n",
    "            num = [x for x in str(dados[i,j])]\r\n",
    "            for value in num:\r\n",
    "                if value != '0' and value != '.' and value != '-':\r\n",
    "                    primeiro_digito[i,j] = int(value)\r\n",
    "                    break\r\n",
    "\r\n",
    "    # Verifica as ocorrências de 1 a 9 na matriz primeiro_digito por colunas\r\n",
    "    for i in range(1, 10):\r\n",
    "        count = np.count_nonzero(primeiro_digito == i, axis=0)\r\n",
    "        # Mostra a porcentagem de ocorrências pra cada ocorrência de 1 a 9 da matriz primeiro_digito\r\n",
    "        for j in range(m):\r\n",
    "            if j == 0:\r\n",
    "                print('Porcentagem de ocorrência de primeiro dígito \"'+str(i)+'\" em cada coluna:', end=' ')\r\n",
    "            print(\"{:.4f}\".format((count[j]/n)*100)+'%', end=' | ')\r\n",
    "        print('')"
   ],
   "outputs": [],
   "metadata": {}
  },
  {
   "cell_type": "code",
   "execution_count": null,
   "source": [
    "benford(ler_dados_benford(\"dados_benford\"))"
   ],
   "outputs": [],
   "metadata": {}
  }
 ],
 "metadata": {
  "interpreter": {
   "hash": "f2cd4636bf413f434ce38ed161db4e268d96ca7807095f8f3af1b39d48b88970"
  },
  "kernelspec": {
   "name": "python3",
   "display_name": "Python 3.9.6 64-bit ('ALC': conda)"
  },
  "language_info": {
   "codemirror_mode": {
    "name": "ipython",
    "version": 3
   },
   "file_extension": ".py",
   "mimetype": "text/x-python",
   "name": "python",
   "nbconvert_exporter": "python",
   "pygments_lexer": "ipython3",
   "version": "3.9.6"
  }
 },
 "nbformat": 4,
 "nbformat_minor": 2
}